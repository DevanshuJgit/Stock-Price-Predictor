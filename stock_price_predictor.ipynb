{
 "cells": [
  {
   "cell_type": "code",
   "execution_count": 2,
   "id": "e896c0be",
   "metadata": {},
   "outputs": [],
   "source": [
    "from tensorflow.keras import Sequential\n",
    "from tensorflow.keras.layers import Dense, LSTM\n",
    "import pandas as pd"
   ]
  },
  {
   "cell_type": "code",
   "execution_count": 3,
   "id": "9b7ff347",
   "metadata": {},
   "outputs": [],
   "source": [
    "df = pd.read_csv(\"AAPL.csv\")"
   ]
  },
  {
   "cell_type": "code",
   "execution_count": 4,
   "id": "0db1bc61",
   "metadata": {},
   "outputs": [
    {
     "data": {
      "text/html": [
       "<div>\n",
       "<style scoped>\n",
       "    .dataframe tbody tr th:only-of-type {\n",
       "        vertical-align: middle;\n",
       "    }\n",
       "\n",
       "    .dataframe tbody tr th {\n",
       "        vertical-align: top;\n",
       "    }\n",
       "\n",
       "    .dataframe thead th {\n",
       "        text-align: right;\n",
       "    }\n",
       "</style>\n",
       "<table border=\"1\" class=\"dataframe\">\n",
       "  <thead>\n",
       "    <tr style=\"text-align: right;\">\n",
       "      <th></th>\n",
       "      <th>date</th>\n",
       "      <th>close</th>\n",
       "      <th>high</th>\n",
       "      <th>low</th>\n",
       "      <th>open</th>\n",
       "      <th>volume</th>\n",
       "      <th>adjClose</th>\n",
       "      <th>adjHigh</th>\n",
       "      <th>adjLow</th>\n",
       "      <th>adjOpen</th>\n",
       "      <th>adjVolume</th>\n",
       "      <th>divCash</th>\n",
       "      <th>splitFactor</th>\n",
       "    </tr>\n",
       "  </thead>\n",
       "  <tbody>\n",
       "    <tr>\n",
       "      <th>2643</th>\n",
       "      <td>2025-07-09T00:00:00.000Z</td>\n",
       "      <td>211.14</td>\n",
       "      <td>211.33</td>\n",
       "      <td>207.22</td>\n",
       "      <td>209.530</td>\n",
       "      <td>48749367</td>\n",
       "      <td>211.14</td>\n",
       "      <td>211.33</td>\n",
       "      <td>207.22</td>\n",
       "      <td>209.530</td>\n",
       "      <td>48749367</td>\n",
       "      <td>0.0</td>\n",
       "      <td>1.0</td>\n",
       "    </tr>\n",
       "    <tr>\n",
       "      <th>2644</th>\n",
       "      <td>2025-07-10T00:00:00.000Z</td>\n",
       "      <td>212.41</td>\n",
       "      <td>213.48</td>\n",
       "      <td>210.03</td>\n",
       "      <td>210.505</td>\n",
       "      <td>44443635</td>\n",
       "      <td>212.41</td>\n",
       "      <td>213.48</td>\n",
       "      <td>210.03</td>\n",
       "      <td>210.505</td>\n",
       "      <td>44443635</td>\n",
       "      <td>0.0</td>\n",
       "      <td>1.0</td>\n",
       "    </tr>\n",
       "    <tr>\n",
       "      <th>2645</th>\n",
       "      <td>2025-07-11T00:00:00.000Z</td>\n",
       "      <td>211.16</td>\n",
       "      <td>212.13</td>\n",
       "      <td>209.86</td>\n",
       "      <td>210.565</td>\n",
       "      <td>39765812</td>\n",
       "      <td>211.16</td>\n",
       "      <td>212.13</td>\n",
       "      <td>209.86</td>\n",
       "      <td>210.565</td>\n",
       "      <td>39765812</td>\n",
       "      <td>0.0</td>\n",
       "      <td>1.0</td>\n",
       "    </tr>\n",
       "    <tr>\n",
       "      <th>2646</th>\n",
       "      <td>2025-07-14T00:00:00.000Z</td>\n",
       "      <td>208.62</td>\n",
       "      <td>210.91</td>\n",
       "      <td>207.54</td>\n",
       "      <td>209.925</td>\n",
       "      <td>38840111</td>\n",
       "      <td>208.62</td>\n",
       "      <td>210.91</td>\n",
       "      <td>207.54</td>\n",
       "      <td>209.925</td>\n",
       "      <td>38840111</td>\n",
       "      <td>0.0</td>\n",
       "      <td>1.0</td>\n",
       "    </tr>\n",
       "    <tr>\n",
       "      <th>2647</th>\n",
       "      <td>2025-07-15T00:00:00.000Z</td>\n",
       "      <td>209.11</td>\n",
       "      <td>211.89</td>\n",
       "      <td>208.92</td>\n",
       "      <td>209.220</td>\n",
       "      <td>42296339</td>\n",
       "      <td>209.11</td>\n",
       "      <td>211.89</td>\n",
       "      <td>208.92</td>\n",
       "      <td>209.220</td>\n",
       "      <td>42296339</td>\n",
       "      <td>0.0</td>\n",
       "      <td>1.0</td>\n",
       "    </tr>\n",
       "  </tbody>\n",
       "</table>\n",
       "</div>"
      ],
      "text/plain": [
       "                          date   close    high     low     open    volume  \\\n",
       "2643  2025-07-09T00:00:00.000Z  211.14  211.33  207.22  209.530  48749367   \n",
       "2644  2025-07-10T00:00:00.000Z  212.41  213.48  210.03  210.505  44443635   \n",
       "2645  2025-07-11T00:00:00.000Z  211.16  212.13  209.86  210.565  39765812   \n",
       "2646  2025-07-14T00:00:00.000Z  208.62  210.91  207.54  209.925  38840111   \n",
       "2647  2025-07-15T00:00:00.000Z  209.11  211.89  208.92  209.220  42296339   \n",
       "\n",
       "      adjClose  adjHigh  adjLow  adjOpen  adjVolume  divCash  splitFactor  \n",
       "2643    211.14   211.33  207.22  209.530   48749367      0.0          1.0  \n",
       "2644    212.41   213.48  210.03  210.505   44443635      0.0          1.0  \n",
       "2645    211.16   212.13  209.86  210.565   39765812      0.0          1.0  \n",
       "2646    208.62   210.91  207.54  209.925   38840111      0.0          1.0  \n",
       "2647    209.11   211.89  208.92  209.220   42296339      0.0          1.0  "
      ]
     },
     "execution_count": 4,
     "metadata": {},
     "output_type": "execute_result"
    }
   ],
   "source": [
    "df.tail()"
   ]
  },
  {
   "cell_type": "code",
   "execution_count": 5,
   "id": "a2910f8a",
   "metadata": {},
   "outputs": [
    {
     "data": {
      "text/html": [
       "<div>\n",
       "<style scoped>\n",
       "    .dataframe tbody tr th:only-of-type {\n",
       "        vertical-align: middle;\n",
       "    }\n",
       "\n",
       "    .dataframe tbody tr th {\n",
       "        vertical-align: top;\n",
       "    }\n",
       "\n",
       "    .dataframe thead th {\n",
       "        text-align: right;\n",
       "    }\n",
       "</style>\n",
       "<table border=\"1\" class=\"dataframe\">\n",
       "  <thead>\n",
       "    <tr style=\"text-align: right;\">\n",
       "      <th></th>\n",
       "      <th>date</th>\n",
       "      <th>close</th>\n",
       "      <th>high</th>\n",
       "      <th>low</th>\n",
       "      <th>open</th>\n",
       "      <th>volume</th>\n",
       "      <th>adjClose</th>\n",
       "      <th>adjHigh</th>\n",
       "      <th>adjLow</th>\n",
       "      <th>adjOpen</th>\n",
       "      <th>adjVolume</th>\n",
       "      <th>divCash</th>\n",
       "      <th>splitFactor</th>\n",
       "    </tr>\n",
       "  </thead>\n",
       "  <tbody>\n",
       "    <tr>\n",
       "      <th>0</th>\n",
       "      <td>2015-01-02T00:00:00.000Z</td>\n",
       "      <td>109.33</td>\n",
       "      <td>111.44</td>\n",
       "      <td>107.350</td>\n",
       "      <td>111.39</td>\n",
       "      <td>53204626</td>\n",
       "      <td>24.289246</td>\n",
       "      <td>24.758014</td>\n",
       "      <td>23.849361</td>\n",
       "      <td>24.746905</td>\n",
       "      <td>212818504</td>\n",
       "      <td>0.0</td>\n",
       "      <td>1.0</td>\n",
       "    </tr>\n",
       "    <tr>\n",
       "      <th>1</th>\n",
       "      <td>2015-01-05T00:00:00.000Z</td>\n",
       "      <td>106.25</td>\n",
       "      <td>108.65</td>\n",
       "      <td>105.410</td>\n",
       "      <td>108.29</td>\n",
       "      <td>64285491</td>\n",
       "      <td>23.604980</td>\n",
       "      <td>24.138175</td>\n",
       "      <td>23.418362</td>\n",
       "      <td>24.058195</td>\n",
       "      <td>257141964</td>\n",
       "      <td>0.0</td>\n",
       "      <td>1.0</td>\n",
       "    </tr>\n",
       "    <tr>\n",
       "      <th>2</th>\n",
       "      <td>2015-01-06T00:00:00.000Z</td>\n",
       "      <td>106.26</td>\n",
       "      <td>107.43</td>\n",
       "      <td>104.630</td>\n",
       "      <td>106.54</td>\n",
       "      <td>65797116</td>\n",
       "      <td>23.607201</td>\n",
       "      <td>23.867134</td>\n",
       "      <td>23.245073</td>\n",
       "      <td>23.669407</td>\n",
       "      <td>263188464</td>\n",
       "      <td>0.0</td>\n",
       "      <td>1.0</td>\n",
       "    </tr>\n",
       "    <tr>\n",
       "      <th>3</th>\n",
       "      <td>2015-01-07T00:00:00.000Z</td>\n",
       "      <td>107.75</td>\n",
       "      <td>108.20</td>\n",
       "      <td>106.695</td>\n",
       "      <td>107.20</td>\n",
       "      <td>40105934</td>\n",
       "      <td>23.938227</td>\n",
       "      <td>24.038201</td>\n",
       "      <td>23.703843</td>\n",
       "      <td>23.816036</td>\n",
       "      <td>160423736</td>\n",
       "      <td>0.0</td>\n",
       "      <td>1.0</td>\n",
       "    </tr>\n",
       "    <tr>\n",
       "      <th>4</th>\n",
       "      <td>2015-01-08T00:00:00.000Z</td>\n",
       "      <td>111.89</td>\n",
       "      <td>112.15</td>\n",
       "      <td>108.700</td>\n",
       "      <td>109.23</td>\n",
       "      <td>59364547</td>\n",
       "      <td>24.857988</td>\n",
       "      <td>24.915750</td>\n",
       "      <td>24.149283</td>\n",
       "      <td>24.267030</td>\n",
       "      <td>237458188</td>\n",
       "      <td>0.0</td>\n",
       "      <td>1.0</td>\n",
       "    </tr>\n",
       "  </tbody>\n",
       "</table>\n",
       "</div>"
      ],
      "text/plain": [
       "                       date   close    high      low    open    volume  \\\n",
       "0  2015-01-02T00:00:00.000Z  109.33  111.44  107.350  111.39  53204626   \n",
       "1  2015-01-05T00:00:00.000Z  106.25  108.65  105.410  108.29  64285491   \n",
       "2  2015-01-06T00:00:00.000Z  106.26  107.43  104.630  106.54  65797116   \n",
       "3  2015-01-07T00:00:00.000Z  107.75  108.20  106.695  107.20  40105934   \n",
       "4  2015-01-08T00:00:00.000Z  111.89  112.15  108.700  109.23  59364547   \n",
       "\n",
       "    adjClose    adjHigh     adjLow    adjOpen  adjVolume  divCash  splitFactor  \n",
       "0  24.289246  24.758014  23.849361  24.746905  212818504      0.0          1.0  \n",
       "1  23.604980  24.138175  23.418362  24.058195  257141964      0.0          1.0  \n",
       "2  23.607201  23.867134  23.245073  23.669407  263188464      0.0          1.0  \n",
       "3  23.938227  24.038201  23.703843  23.816036  160423736      0.0          1.0  \n",
       "4  24.857988  24.915750  24.149283  24.267030  237458188      0.0          1.0  "
      ]
     },
     "execution_count": 5,
     "metadata": {},
     "output_type": "execute_result"
    }
   ],
   "source": [
    "df.head()"
   ]
  },
  {
   "cell_type": "code",
   "execution_count": 6,
   "id": "28c58602",
   "metadata": {},
   "outputs": [],
   "source": [
    "df1 = df.reset_index()['close']"
   ]
  },
  {
   "cell_type": "code",
   "execution_count": 7,
   "id": "17779eef",
   "metadata": {},
   "outputs": [
    {
     "data": {
      "text/plain": [
       "(2648,)"
      ]
     },
     "execution_count": 7,
     "metadata": {},
     "output_type": "execute_result"
    }
   ],
   "source": [
    "df1.shape"
   ]
  },
  {
   "cell_type": "code",
   "execution_count": 8,
   "id": "b4a9cbb5",
   "metadata": {},
   "outputs": [],
   "source": [
    "import matplotlib.pyplot as plt"
   ]
  },
  {
   "cell_type": "code",
   "execution_count": 9,
   "id": "eb1a8fe3",
   "metadata": {},
   "outputs": [
    {
     "data": {
      "text/plain": [
       "[<matplotlib.lines.Line2D at 0x2f4e780ab40>]"
      ]
     },
     "execution_count": 9,
     "metadata": {},
     "output_type": "execute_result"
    },
    {
     "data": {
      "image/png": "[encoded data removed]",
      "text/plain": [
       "<Figure size 640x480 with 1 Axes>"
      ]
     },
     "metadata": {},
     "output_type": "display_data"
    }
   ],
   "source": [
    "plt.plot(df1)"
   ]
  },
  {
   "cell_type": "code",
   "execution_count": 10,
   "id": "0f0abbaa",
   "metadata": {},
   "outputs": [],
   "source": [
    "import numpy as np"
   ]
  },
  {
   "cell_type": "code",
   "execution_count": 11,
   "id": "c36b0d71",
   "metadata": {},
   "outputs": [
    {
     "data": {
      "text/plain": [
       "0       109.33\n",
       "1       106.25\n",
       "2       106.26\n",
       "3       107.75\n",
       "4       111.89\n",
       "         ...  \n",
       "2643    211.14\n",
       "2644    212.41\n",
       "2645    211.16\n",
       "2646    208.62\n",
       "2647    209.11\n",
       "Name: close, Length: 2648, dtype: float64"
      ]
     },
     "execution_count": 11,
     "metadata": {},
     "output_type": "execute_result"
    }
   ],
   "source": [
    "df1"
   ]
  },
  {
   "cell_type": "code",
   "execution_count": 13,
   "id": "a8e10d3d",
   "metadata": {},
   "outputs": [],
   "source": [
    "from sklearn.preprocessing import MinMaxScaler\n",
    "scaler  = MinMaxScaler(feature_range=(0,1))\n",
    "df1 = scaler.fit_transform(np.array(df1).reshape(-1,1))"
   ]
  },
  {
   "cell_type": "code",
   "execution_count": null,
   "id": "cbd367e4",
   "metadata": {},
   "outputs": [],
   "source": []
  },
  {
   "cell_type": "code",
   "execution_count": 14,
   "id": "55630bf1",
   "metadata": {},
   "outputs": [
    {
     "data": {
      "text/plain": [
       "(2648, 1)"
      ]
     },
     "execution_count": 14,
     "metadata": {},
     "output_type": "execute_result"
    }
   ],
   "source": [
    "df1.shape"
   ]
  },
  {
   "cell_type": "code",
   "execution_count": 15,
   "id": "3f979c00",
   "metadata": {},
   "outputs": [
    {
     "data": {
      "text/plain": [
       "array([[0.04567649],\n",
       "       [0.03826819],\n",
       "       [0.03829224],\n",
       "       ...,\n",
       "       [0.29060734],\n",
       "       [0.2844979 ],\n",
       "       [0.28567649]])"
      ]
     },
     "execution_count": 15,
     "metadata": {},
     "output_type": "execute_result"
    }
   ],
   "source": [
    "df1"
   ]
  },
  {
   "cell_type": "code",
   "execution_count": 16,
   "id": "19637012",
   "metadata": {},
   "outputs": [],
   "source": [
    "train_size = int(len(df1)*0.70)\n",
    "test_size = len(df1)-train_size\n",
    "train_data, test_data = df1[0:train_size,:], df1[train_size:len(df1), :1]"
   ]
  },
  {
   "cell_type": "code",
   "execution_count": 17,
   "id": "dc66d480",
   "metadata": {},
   "outputs": [
    {
     "data": {
      "text/plain": [
       "(1853, 795)"
      ]
     },
     "execution_count": 17,
     "metadata": {},
     "output_type": "execute_result"
    }
   ],
   "source": [
    "train_size, test_size"
   ]
  },
  {
   "cell_type": "code",
   "execution_count": 18,
   "id": "52ae4d5d",
   "metadata": {},
   "outputs": [
    {
     "data": {
      "text/plain": [
       "(1853, 795)"
      ]
     },
     "execution_count": 18,
     "metadata": {},
     "output_type": "execute_result"
    }
   ],
   "source": [
    "len(train_data), len(test_data)"
   ]
  },
  {
   "cell_type": "code",
   "execution_count": 19,
   "id": "d068e3e4",
   "metadata": {},
   "outputs": [],
   "source": [
    "import numpy as np\n",
    "\n",
    "def create_dataset(dataset, time_step):\n",
    "    dataX, datay = [], []\n",
    "    for i in range(len(dataset)-time_step-1):\n",
    "        a = dataset[i:(i+time_step), 0]\n",
    "        dataX.append(a)\n",
    "        datay.append(dataset[i+time_step, 0])\n",
    "    return np.array(dataX), np.array(datay)"
   ]
  },
  {
   "cell_type": "code",
   "execution_count": 20,
   "id": "703ef6f6",
   "metadata": {},
   "outputs": [],
   "source": [
    "X_train, y_train = create_dataset(train_data, 100)\n",
    "X_test, y_test = create_dataset(test_data, 100)"
   ]
  },
  {
   "cell_type": "code",
   "execution_count": 21,
   "id": "18072c27",
   "metadata": {},
   "outputs": [
    {
     "name": "stdout",
     "output_type": "stream",
     "text": [
      "[[0.04567649 0.03826819 0.03829224 ... 0.10150331 0.09447986 0.10031269]\n",
      " [0.03826819 0.03829224 0.04187613 ... 0.09447986 0.10031269 0.09967529]\n",
      " [0.03829224 0.04187613 0.05183403 ... 0.10031269 0.09967529 0.09606735]\n",
      " ...\n",
      " [0.20541191 0.20202044 0.21397474 ... 0.16630186 0.18203247 0.15978352]\n",
      " [0.20202044 0.21397474 0.19704149 ... 0.18203247 0.15978352 0.16101022]\n",
      " [0.21397474 0.19704149 0.19434756 ... 0.15978352 0.16101022 0.1484546 ]]\n"
     ]
    }
   ],
   "source": [
    "print(X_train)"
   ]
  },
  {
   "cell_type": "code",
   "execution_count": 22,
   "id": "24570e4f",
   "metadata": {},
   "outputs": [
    {
     "data": {
      "text/plain": [
       "((1752, 100), (1752,))"
      ]
     },
     "execution_count": 22,
     "metadata": {},
     "output_type": "execute_result"
    }
   ],
   "source": [
    "X_train.shape, y_train.shape"
   ]
  },
  {
   "cell_type": "code",
   "execution_count": 23,
   "id": "10f52c2b",
   "metadata": {},
   "outputs": [],
   "source": [
    "X_train = X_train.reshape(X_train.shape[0],X_train.shape[1], 1)\n",
    "X_test = X_test.reshape(X_test.shape[0],X_test.shape[1], 1)"
   ]
  },
  {
   "cell_type": "code",
   "execution_count": 24,
   "id": "159b0d9c",
   "metadata": {},
   "outputs": [
    {
     "name": "stderr",
     "output_type": "stream",
     "text": [
      "c:\\Users\\DJ\\AppData\\Local\\Programs\\Python\\Python312\\Lib\\site-packages\\keras\\src\\layers\\rnn\\rnn.py:199: UserWarning: Do not pass an `input_shape`/`input_dim` argument to a layer. When using Sequential models, prefer using an `Input(shape)` object as the first layer in the model instead.\n",
      "  super().__init__(**kwargs)\n"
     ]
    }
   ],
   "source": [
    "model = Sequential([\n",
    "    LSTM(50, return_sequences=True, input_shape=(100,1)),\n",
    "    LSTM(50, return_sequences=True),\n",
    "    LSTM(50),\n",
    "    Dense(1)\n",
    "])"
   ]
  },
  {
   "cell_type": "code",
   "execution_count": 25,
   "id": "3000a0f4",
   "metadata": {},
   "outputs": [
    {
     "data": {
      "text/html": [
       "<pre style=\"white-space:pre;overflow-x:auto;line-height:normal;font-family:Menlo,'DejaVu Sans Mono',consolas,'Courier New',monospace\"><span style=\"font-weight: bold\">Model: \"sequential\"</span>\n",
       "</pre>\n"
      ],
      "text/plain": [
       "\u001b[1mModel: \"sequential\"\u001b[0m\n"
      ]
     },
     "metadata": {},
     "output_type": "display_data"
    },
    {
     "data": {
      "text/html": [
       "<pre style=\"white-space:pre;overflow-x:auto;line-height:normal;font-family:Menlo,'DejaVu Sans Mono',consolas,'Courier New',monospace\">┏━━━━━━━━━━━━━━━━━━━━━━━━━━━━━━━━━┳━━━━━━━━━━━━━━━━━━━━━━━━┳━━━━━━━━━━━━━━━┓\n",
       "┃<span style=\"font-weight: bold\"> Layer (type)                    </span>┃<span style=\"font-weight: bold\"> Output Shape           </span>┃<span style=\"font-weight: bold\">       Param # </span>┃\n",
       "┡━━━━━━━━━━━━━━━━━━━━━━━━━━━━━━━━━╇━━━━━━━━━━━━━━━━━━━━━━━━╇━━━━━━━━━━━━━━━┩\n",
       "│ lstm (<span style=\"color: #0087ff; text-decoration-color: #0087ff\">LSTM</span>)                     │ (<span style=\"color: #00d7ff; text-decoration-color: #00d7ff\">None</span>, <span style=\"color: #00af00; text-decoration-color: #00af00\">100</span>, <span style=\"color: #00af00; text-decoration-color: #00af00\">50</span>)        │        <span style=\"color: #00af00; text-decoration-color: #00af00\">10,400</span> │\n",
       "├─────────────────────────────────┼────────────────────────┼───────────────┤\n",
       "│ lstm_1 (<span style=\"color: #0087ff; text-decoration-color: #0087ff\">LSTM</span>)                   │ (<span style=\"color: #00d7ff; text-decoration-color: #00d7ff\">None</span>, <span style=\"color: #00af00; text-decoration-color: #00af00\">100</span>, <span style=\"color: #00af00; text-decoration-color: #00af00\">50</span>)        │        <span style=\"color: #00af00; text-decoration-color: #00af00\">20,200</span> │\n",
       "├─────────────────────────────────┼────────────────────────┼───────────────┤\n",
       "│ lstm_2 (<span style=\"color: #0087ff; text-decoration-color: #0087ff\">LSTM</span>)                   │ (<span style=\"color: #00d7ff; text-decoration-color: #00d7ff\">None</span>, <span style=\"color: #00af00; text-decoration-color: #00af00\">50</span>)             │        <span style=\"color: #00af00; text-decoration-color: #00af00\">20,200</span> │\n",
       "├─────────────────────────────────┼────────────────────────┼───────────────┤\n",
       "│ dense (<span style=\"color: #0087ff; text-decoration-color: #0087ff\">Dense</span>)                   │ (<span style=\"color: #00d7ff; text-decoration-color: #00d7ff\">None</span>, <span style=\"color: #00af00; text-decoration-color: #00af00\">1</span>)              │            <span style=\"color: #00af00; text-decoration-color: #00af00\">51</span> │\n",
       "└─────────────────────────────────┴────────────────────────┴───────────────┘\n",
       "</pre>\n"
      ],
      "text/plain": [
       "┏━━━━━━━━━━━━━━━━━━━━━━━━━━━━━━━━━┳━━━━━━━━━━━━━━━━━━━━━━━━┳━━━━━━━━━━━━━━━┓\n",
       "┃\u001b[1m \u001b[0m\u001b[1mLayer (type)                   \u001b[0m\u001b[1m \u001b[0m┃\u001b[1m \u001b[0m\u001b[1mOutput Shape          \u001b[0m\u001b[1m \u001b[0m┃\u001b[1m \u001b[0m\u001b[1m      Param #\u001b[0m\u001b[1m \u001b[0m┃\n",
       "┡━━━━━━━━━━━━━━━━━━━━━━━━━━━━━━━━━╇━━━━━━━━━━━━━━━━━━━━━━━━╇━━━━━━━━━━━━━━━┩\n",
       "│ lstm (\u001b[38;5;33mLSTM\u001b[0m)                     │ (\u001b[38;5;45mNone\u001b[0m, \u001b[38;5;34m100\u001b[0m, \u001b[38;5;34m50\u001b[0m)        │        \u001b[38;5;34m10,400\u001b[0m │\n",
       "├─────────────────────────────────┼────────────────────────┼───────────────┤\n",
       "│ lstm_1 (\u001b[38;5;33mLSTM\u001b[0m)                   │ (\u001b[38;5;45mNone\u001b[0m, \u001b[38;5;34m100\u001b[0m, \u001b[38;5;34m50\u001b[0m)        │        \u001b[38;5;34m20,200\u001b[0m │\n",
       "├─────────────────────────────────┼────────────────────────┼───────────────┤\n",
       "│ lstm_2 (\u001b[38;5;33mLSTM\u001b[0m)                   │ (\u001b[38;5;45mNone\u001b[0m, \u001b[38;5;34m50\u001b[0m)             │        \u001b[38;5;34m20,200\u001b[0m │\n",
       "├─────────────────────────────────┼────────────────────────┼───────────────┤\n",
       "│ dense (\u001b[38;5;33mDense\u001b[0m)                   │ (\u001b[38;5;45mNone\u001b[0m, \u001b[38;5;34m1\u001b[0m)              │            \u001b[38;5;34m51\u001b[0m │\n",
       "└─────────────────────────────────┴────────────────────────┴───────────────┘\n"
      ]
     },
     "metadata": {},
     "output_type": "display_data"
    },
    {
     "data": {
      "text/html": [
       "<pre style=\"white-space:pre;overflow-x:auto;line-height:normal;font-family:Menlo,'DejaVu Sans Mono',consolas,'Courier New',monospace\"><span style=\"font-weight: bold\"> Total params: </span><span style=\"color: #00af00; text-decoration-color: #00af00\">50,851</span> (198.64 KB)\n",
       "</pre>\n"
      ],
      "text/plain": [
       "\u001b[1m Total params: \u001b[0m\u001b[38;5;34m50,851\u001b[0m (198.64 KB)\n"
      ]
     },
     "metadata": {},
     "output_type": "display_data"
    },
    {
     "data": {
      "text/html": [
       "<pre style=\"white-space:pre;overflow-x:auto;line-height:normal;font-family:Menlo,'DejaVu Sans Mono',consolas,'Courier New',monospace\"><span style=\"font-weight: bold\"> Trainable params: </span><span style=\"color: #00af00; text-decoration-color: #00af00\">50,851</span> (198.64 KB)\n",
       "</pre>\n"
      ],
      "text/plain": [
       "\u001b[1m Trainable params: \u001b[0m\u001b[38;5;34m50,851\u001b[0m (198.64 KB)\n"
      ]
     },
     "metadata": {},
     "output_type": "display_data"
    },
    {
     "data": {
      "text/html": [
       "<pre style=\"white-space:pre;overflow-x:auto;line-height:normal;font-family:Menlo,'DejaVu Sans Mono',consolas,'Courier New',monospace\"><span style=\"font-weight: bold\"> Non-trainable params: </span><span style=\"color: #00af00; text-decoration-color: #00af00\">0</span> (0.00 B)\n",
       "</pre>\n"
      ],
      "text/plain": [
       "\u001b[1m Non-trainable params: \u001b[0m\u001b[38;5;34m0\u001b[0m (0.00 B)\n"
      ]
     },
     "metadata": {},
     "output_type": "display_data"
    }
   ],
   "source": [
    "model.summary()"
   ]
  },
  {
   "cell_type": "code",
   "execution_count": 24,
   "id": "0369a155",
   "metadata": {},
   "outputs": [],
   "source": [
    "model.compile(loss='mean_squared_error', optimizer=\"adam\")"
   ]
  },
  {
   "cell_type": "code",
   "execution_count": 25,
   "id": "c6bd1042",
   "metadata": {},
   "outputs": [
    {
     "name": "stdout",
     "output_type": "stream",
     "text": [
      "Epoch 1/100\n",
      "\u001b[1m28/28\u001b[0m \u001b[32m━━━━━━━━━━━━━━━━━━━━\u001b[0m\u001b[37m\u001b[0m \u001b[1m4s\u001b[0m 65ms/step - loss: 0.0244 - val_loss: 0.0022\n",
      "Epoch 2/100\n",
      "\u001b[1m28/28\u001b[0m \u001b[32m━━━━━━━━━━━━━━━━━━━━\u001b[0m\u001b[37m\u001b[0m \u001b[1m1s\u001b[0m 53ms/step - loss: 0.0045 - val_loss: 5.6573e-04\n",
      "Epoch 3/100\n",
      "\u001b[1m28/28\u001b[0m \u001b[32m━━━━━━━━━━━━━━━━━━━━\u001b[0m\u001b[37m\u001b[0m \u001b[1m2s\u001b[0m 53ms/step - loss: 0.0048 - val_loss: 0.0014\n",
      "Epoch 4/100\n",
      "\u001b[1m28/28\u001b[0m \u001b[32m━━━━━━━━━━━━━━━━━━━━\u001b[0m\u001b[37m\u001b[0m \u001b[1m2s\u001b[0m 53ms/step - loss: 0.0035 - val_loss: 9.4829e-04\n",
      "Epoch 5/100\n",
      "\u001b[1m28/28\u001b[0m \u001b[32m━━━━━━━━━━━━━━━━━━━━\u001b[0m\u001b[37m\u001b[0m \u001b[1m2s\u001b[0m 54ms/step - loss: 0.0036 - val_loss: 6.2236e-04\n",
      "Epoch 6/100\n",
      "\u001b[1m28/28\u001b[0m \u001b[32m━━━━━━━━━━━━━━━━━━━━\u001b[0m\u001b[37m\u001b[0m \u001b[1m1s\u001b[0m 52ms/step - loss: 0.0032 - val_loss: 8.5265e-04\n",
      "Epoch 7/100\n",
      "\u001b[1m28/28\u001b[0m \u001b[32m━━━━━━━━━━━━━━━━━━━━\u001b[0m\u001b[37m\u001b[0m \u001b[1m2s\u001b[0m 71ms/step - loss: 0.0019 - val_loss: 5.5892e-04\n",
      "Epoch 8/100\n",
      "\u001b[1m28/28\u001b[0m \u001b[32m━━━━━━━━━━━━━━━━━━━━\u001b[0m\u001b[37m\u001b[0m \u001b[1m2s\u001b[0m 84ms/step - loss: 0.0016 - val_loss: 3.5673e-04\n",
      "Epoch 9/100\n",
      "\u001b[1m28/28\u001b[0m \u001b[32m━━━━━━━━━━━━━━━━━━━━\u001b[0m\u001b[37m\u001b[0m \u001b[1m2s\u001b[0m 75ms/step - loss: 0.0022 - val_loss: 3.2884e-04\n",
      "Epoch 10/100\n",
      "\u001b[1m28/28\u001b[0m \u001b[32m━━━━━━━━━━━━━━━━━━━━\u001b[0m\u001b[37m\u001b[0m \u001b[1m2s\u001b[0m 65ms/step - loss: 0.0011 - val_loss: 3.4464e-04\n",
      "Epoch 11/100\n",
      "\u001b[1m28/28\u001b[0m \u001b[32m━━━━━━━━━━━━━━━━━━━━\u001b[0m\u001b[37m\u001b[0m \u001b[1m2s\u001b[0m 63ms/step - loss: 0.0013 - val_loss: 3.9752e-04\n",
      "Epoch 12/100\n",
      "\u001b[1m28/28\u001b[0m \u001b[32m━━━━━━━━━━━━━━━━━━━━\u001b[0m\u001b[37m\u001b[0m \u001b[1m2s\u001b[0m 63ms/step - loss: 9.3164e-04 - val_loss: 2.9679e-04\n",
      "Epoch 13/100\n",
      "\u001b[1m28/28\u001b[0m \u001b[32m━━━━━━━━━━━━━━━━━━━━\u001b[0m\u001b[37m\u001b[0m \u001b[1m2s\u001b[0m 63ms/step - loss: 0.0017 - val_loss: 6.0621e-04\n",
      "Epoch 14/100\n",
      "\u001b[1m28/28\u001b[0m \u001b[32m━━━━━━━━━━━━━━━━━━━━\u001b[0m\u001b[37m\u001b[0m \u001b[1m2s\u001b[0m 64ms/step - loss: 9.1450e-04 - val_loss: 4.8016e-04\n",
      "Epoch 15/100\n",
      "\u001b[1m28/28\u001b[0m \u001b[32m━━━━━━━━━━━━━━━━━━━━\u001b[0m\u001b[37m\u001b[0m \u001b[1m2s\u001b[0m 64ms/step - loss: 0.0012 - val_loss: 2.8131e-04\n",
      "Epoch 16/100\n",
      "\u001b[1m28/28\u001b[0m \u001b[32m━━━━━━━━━━━━━━━━━━━━\u001b[0m\u001b[37m\u001b[0m \u001b[1m2s\u001b[0m 64ms/step - loss: 0.0022 - val_loss: 0.0010\n",
      "Epoch 17/100\n",
      "\u001b[1m28/28\u001b[0m \u001b[32m━━━━━━━━━━━━━━━━━━━━\u001b[0m\u001b[37m\u001b[0m \u001b[1m2s\u001b[0m 64ms/step - loss: 0.0013 - val_loss: 5.1473e-04\n",
      "Epoch 18/100\n",
      "\u001b[1m28/28\u001b[0m \u001b[32m━━━━━━━━━━━━━━━━━━━━\u001b[0m\u001b[37m\u001b[0m \u001b[1m2s\u001b[0m 63ms/step - loss: 8.6592e-04 - val_loss: 4.2061e-04\n",
      "Epoch 19/100\n",
      "\u001b[1m28/28\u001b[0m \u001b[32m━━━━━━━━━━━━━━━━━━━━\u001b[0m\u001b[37m\u001b[0m \u001b[1m2s\u001b[0m 63ms/step - loss: 8.8360e-04 - val_loss: 5.4389e-04\n",
      "Epoch 20/100\n",
      "\u001b[1m28/28\u001b[0m \u001b[32m━━━━━━━━━━━━━━━━━━━━\u001b[0m\u001b[37m\u001b[0m \u001b[1m2s\u001b[0m 65ms/step - loss: 8.8822e-04 - val_loss: 4.1346e-04\n",
      "Epoch 21/100\n",
      "\u001b[1m28/28\u001b[0m \u001b[32m━━━━━━━━━━━━━━━━━━━━\u001b[0m\u001b[37m\u001b[0m \u001b[1m2s\u001b[0m 63ms/step - loss: 7.9823e-04 - val_loss: 3.1470e-04\n",
      "Epoch 22/100\n",
      "\u001b[1m28/28\u001b[0m \u001b[32m━━━━━━━━━━━━━━━━━━━━\u001b[0m\u001b[37m\u001b[0m \u001b[1m2s\u001b[0m 64ms/step - loss: 0.0010 - val_loss: 3.0576e-04\n",
      "Epoch 23/100\n",
      "\u001b[1m28/28\u001b[0m \u001b[32m━━━━━━━━━━━━━━━━━━━━\u001b[0m\u001b[37m\u001b[0m \u001b[1m2s\u001b[0m 61ms/step - loss: 9.4773e-04 - val_loss: 3.4256e-04\n",
      "Epoch 24/100\n",
      "\u001b[1m28/28\u001b[0m \u001b[32m━━━━━━━━━━━━━━━━━━━━\u001b[0m\u001b[37m\u001b[0m \u001b[1m2s\u001b[0m 63ms/step - loss: 9.2050e-04 - val_loss: 3.8823e-04\n",
      "Epoch 25/100\n",
      "\u001b[1m28/28\u001b[0m \u001b[32m━━━━━━━━━━━━━━━━━━━━\u001b[0m\u001b[37m\u001b[0m \u001b[1m2s\u001b[0m 63ms/step - loss: 7.5987e-04 - val_loss: 2.7111e-04\n",
      "Epoch 26/100\n",
      "\u001b[1m28/28\u001b[0m \u001b[32m━━━━━━━━━━━━━━━━━━━━\u001b[0m\u001b[37m\u001b[0m \u001b[1m2s\u001b[0m 65ms/step - loss: 5.6201e-04 - val_loss: 2.5080e-04\n",
      "Epoch 27/100\n",
      "\u001b[1m28/28\u001b[0m \u001b[32m━━━━━━━━━━━━━━━━━━━━\u001b[0m\u001b[37m\u001b[0m \u001b[1m2s\u001b[0m 61ms/step - loss: 9.2702e-04 - val_loss: 3.2532e-04\n",
      "Epoch 28/100\n",
      "\u001b[1m28/28\u001b[0m \u001b[32m━━━━━━━━━━━━━━━━━━━━\u001b[0m\u001b[37m\u001b[0m \u001b[1m2s\u001b[0m 63ms/step - loss: 0.0012 - val_loss: 3.2284e-04\n",
      "Epoch 29/100\n",
      "\u001b[1m28/28\u001b[0m \u001b[32m━━━━━━━━━━━━━━━━━━━━\u001b[0m\u001b[37m\u001b[0m \u001b[1m2s\u001b[0m 63ms/step - loss: 0.0013 - val_loss: 2.3368e-04\n",
      "Epoch 30/100\n",
      "\u001b[1m28/28\u001b[0m \u001b[32m━━━━━━━━━━━━━━━━━━━━\u001b[0m\u001b[37m\u001b[0m \u001b[1m2s\u001b[0m 65ms/step - loss: 6.6353e-04 - val_loss: 4.0075e-04\n",
      "Epoch 31/100\n",
      "\u001b[1m28/28\u001b[0m \u001b[32m━━━━━━━━━━━━━━━━━━━━\u001b[0m\u001b[37m\u001b[0m \u001b[1m2s\u001b[0m 63ms/step - loss: 7.4237e-04 - val_loss: 2.5245e-04\n",
      "Epoch 32/100\n",
      "\u001b[1m28/28\u001b[0m \u001b[32m━━━━━━━━━━━━━━━━━━━━\u001b[0m\u001b[37m\u001b[0m \u001b[1m2s\u001b[0m 64ms/step - loss: 8.8755e-04 - val_loss: 2.7707e-04\n",
      "Epoch 33/100\n",
      "\u001b[1m28/28\u001b[0m \u001b[32m━━━━━━━━━━━━━━━━━━━━\u001b[0m\u001b[37m\u001b[0m \u001b[1m2s\u001b[0m 62ms/step - loss: 0.0010 - val_loss: 2.5528e-04\n",
      "Epoch 34/100\n",
      "\u001b[1m28/28\u001b[0m \u001b[32m━━━━━━━━━━━━━━━━━━━━\u001b[0m\u001b[37m\u001b[0m \u001b[1m2s\u001b[0m 63ms/step - loss: 5.5958e-04 - val_loss: 3.3081e-04\n",
      "Epoch 35/100\n",
      "\u001b[1m28/28\u001b[0m \u001b[32m━━━━━━━━━━━━━━━━━━━━\u001b[0m\u001b[37m\u001b[0m \u001b[1m2s\u001b[0m 64ms/step - loss: 6.6580e-04 - val_loss: 4.8619e-04\n",
      "Epoch 36/100\n",
      "\u001b[1m28/28\u001b[0m \u001b[32m━━━━━━━━━━━━━━━━━━━━\u001b[0m\u001b[37m\u001b[0m \u001b[1m2s\u001b[0m 66ms/step - loss: 0.0011 - val_loss: 3.1975e-04\n",
      "Epoch 37/100\n",
      "\u001b[1m28/28\u001b[0m \u001b[32m━━━━━━━━━━━━━━━━━━━━\u001b[0m\u001b[37m\u001b[0m \u001b[1m2s\u001b[0m 63ms/step - loss: 7.2200e-04 - val_loss: 3.5405e-04\n",
      "Epoch 38/100\n",
      "\u001b[1m28/28\u001b[0m \u001b[32m━━━━━━━━━━━━━━━━━━━━\u001b[0m\u001b[37m\u001b[0m \u001b[1m2s\u001b[0m 64ms/step - loss: 0.0014 - val_loss: 4.8605e-04\n",
      "Epoch 39/100\n",
      "\u001b[1m28/28\u001b[0m \u001b[32m━━━━━━━━━━━━━━━━━━━━\u001b[0m\u001b[37m\u001b[0m \u001b[1m2s\u001b[0m 64ms/step - loss: 0.0013 - val_loss: 2.1879e-04\n",
      "Epoch 40/100\n",
      "\u001b[1m28/28\u001b[0m \u001b[32m━━━━━━━━━━━━━━━━━━━━\u001b[0m\u001b[37m\u001b[0m \u001b[1m2s\u001b[0m 65ms/step - loss: 8.1317e-04 - val_loss: 2.7149e-04\n",
      "Epoch 41/100\n",
      "\u001b[1m28/28\u001b[0m \u001b[32m━━━━━━━━━━━━━━━━━━━━\u001b[0m\u001b[37m\u001b[0m \u001b[1m2s\u001b[0m 65ms/step - loss: 9.1817e-04 - val_loss: 7.8871e-04\n",
      "Epoch 42/100\n",
      "\u001b[1m28/28\u001b[0m \u001b[32m━━━━━━━━━━━━━━━━━━━━\u001b[0m\u001b[37m\u001b[0m \u001b[1m2s\u001b[0m 63ms/step - loss: 8.9243e-04 - val_loss: 3.1322e-04\n",
      "Epoch 43/100\n",
      "\u001b[1m28/28\u001b[0m \u001b[32m━━━━━━━━━━━━━━━━━━━━\u001b[0m\u001b[37m\u001b[0m \u001b[1m2s\u001b[0m 62ms/step - loss: 7.0666e-04 - val_loss: 2.6652e-04\n",
      "Epoch 44/100\n",
      "\u001b[1m28/28\u001b[0m \u001b[32m━━━━━━━━━━━━━━━━━━━━\u001b[0m\u001b[37m\u001b[0m \u001b[1m2s\u001b[0m 61ms/step - loss: 9.5151e-04 - val_loss: 3.7002e-04\n",
      "Epoch 45/100\n",
      "\u001b[1m28/28\u001b[0m \u001b[32m━━━━━━━━━━━━━━━━━━━━\u001b[0m\u001b[37m\u001b[0m \u001b[1m2s\u001b[0m 63ms/step - loss: 5.1242e-04 - val_loss: 2.3455e-04\n",
      "Epoch 46/100\n",
      "\u001b[1m28/28\u001b[0m \u001b[32m━━━━━━━━━━━━━━━━━━━━\u001b[0m\u001b[37m\u001b[0m \u001b[1m2s\u001b[0m 62ms/step - loss: 6.5866e-04 - val_loss: 0.0018\n",
      "Epoch 47/100\n",
      "\u001b[1m28/28\u001b[0m \u001b[32m━━━━━━━━━━━━━━━━━━━━\u001b[0m\u001b[37m\u001b[0m \u001b[1m2s\u001b[0m 64ms/step - loss: 0.0012 - val_loss: 1.9993e-04\n",
      "Epoch 48/100\n",
      "\u001b[1m28/28\u001b[0m \u001b[32m━━━━━━━━━━━━━━━━━━━━\u001b[0m\u001b[37m\u001b[0m \u001b[1m2s\u001b[0m 64ms/step - loss: 5.3049e-04 - val_loss: 2.4190e-04\n",
      "Epoch 49/100\n",
      "\u001b[1m28/28\u001b[0m \u001b[32m━━━━━━━━━━━━━━━━━━━━\u001b[0m\u001b[37m\u001b[0m \u001b[1m2s\u001b[0m 62ms/step - loss: 7.1209e-04 - val_loss: 1.9656e-04\n",
      "Epoch 50/100\n",
      "\u001b[1m28/28\u001b[0m \u001b[32m━━━━━━━━━━━━━━━━━━━━\u001b[0m\u001b[37m\u001b[0m \u001b[1m2s\u001b[0m 63ms/step - loss: 8.9778e-04 - val_loss: 2.1436e-04\n",
      "Epoch 51/100\n",
      "\u001b[1m28/28\u001b[0m \u001b[32m━━━━━━━━━━━━━━━━━━━━\u001b[0m\u001b[37m\u001b[0m \u001b[1m2s\u001b[0m 63ms/step - loss: 3.9502e-04 - val_loss: 1.9685e-04\n",
      "Epoch 52/100\n",
      "\u001b[1m28/28\u001b[0m \u001b[32m━━━━━━━━━━━━━━━━━━━━\u001b[0m\u001b[37m\u001b[0m \u001b[1m2s\u001b[0m 63ms/step - loss: 0.0011 - val_loss: 2.2147e-04\n",
      "Epoch 53/100\n",
      "\u001b[1m28/28\u001b[0m \u001b[32m━━━━━━━━━━━━━━━━━━━━\u001b[0m\u001b[37m\u001b[0m \u001b[1m2s\u001b[0m 64ms/step - loss: 7.4059e-04 - val_loss: 4.2199e-04\n",
      "Epoch 54/100\n",
      "\u001b[1m28/28\u001b[0m \u001b[32m━━━━━━━━━━━━━━━━━━━━\u001b[0m\u001b[37m\u001b[0m \u001b[1m2s\u001b[0m 64ms/step - loss: 4.8860e-04 - val_loss: 1.6758e-04\n",
      "Epoch 55/100\n",
      "\u001b[1m28/28\u001b[0m \u001b[32m━━━━━━━━━━━━━━━━━━━━\u001b[0m\u001b[37m\u001b[0m \u001b[1m2s\u001b[0m 64ms/step - loss: 9.0140e-04 - val_loss: 1.6950e-04\n",
      "Epoch 56/100\n",
      "\u001b[1m28/28\u001b[0m \u001b[32m━━━━━━━━━━━━━━━━━━━━\u001b[0m\u001b[37m\u001b[0m \u001b[1m2s\u001b[0m 63ms/step - loss: 5.3137e-04 - val_loss: 1.6536e-04\n",
      "Epoch 57/100\n",
      "\u001b[1m28/28\u001b[0m \u001b[32m━━━━━━━━━━━━━━━━━━━━\u001b[0m\u001b[37m\u001b[0m \u001b[1m2s\u001b[0m 63ms/step - loss: 9.1814e-04 - val_loss: 1.8237e-04\n",
      "Epoch 58/100\n",
      "\u001b[1m28/28\u001b[0m \u001b[32m━━━━━━━━━━━━━━━━━━━━\u001b[0m\u001b[37m\u001b[0m \u001b[1m2s\u001b[0m 64ms/step - loss: 3.1399e-04 - val_loss: 2.2390e-04\n",
      "Epoch 59/100\n",
      "\u001b[1m28/28\u001b[0m \u001b[32m━━━━━━━━━━━━━━━━━━━━\u001b[0m\u001b[37m\u001b[0m \u001b[1m2s\u001b[0m 62ms/step - loss: 3.2171e-04 - val_loss: 1.5828e-04\n",
      "Epoch 60/100\n",
      "\u001b[1m28/28\u001b[0m \u001b[32m━━━━━━━━━━━━━━━━━━━━\u001b[0m\u001b[37m\u001b[0m \u001b[1m2s\u001b[0m 63ms/step - loss: 5.9536e-04 - val_loss: 1.6531e-04\n",
      "Epoch 61/100\n",
      "\u001b[1m28/28\u001b[0m \u001b[32m━━━━━━━━━━━━━━━━━━━━\u001b[0m\u001b[37m\u001b[0m \u001b[1m2s\u001b[0m 62ms/step - loss: 4.1392e-04 - val_loss: 1.5453e-04\n",
      "Epoch 62/100\n",
      "\u001b[1m28/28\u001b[0m \u001b[32m━━━━━━━━━━━━━━━━━━━━\u001b[0m\u001b[37m\u001b[0m \u001b[1m2s\u001b[0m 64ms/step - loss: 5.3615e-04 - val_loss: 1.4860e-04\n",
      "Epoch 63/100\n",
      "\u001b[1m28/28\u001b[0m \u001b[32m━━━━━━━━━━━━━━━━━━━━\u001b[0m\u001b[37m\u001b[0m \u001b[1m2s\u001b[0m 64ms/step - loss: 6.7830e-04 - val_loss: 1.7416e-04\n",
      "Epoch 64/100\n",
      "\u001b[1m28/28\u001b[0m \u001b[32m━━━━━━━━━━━━━━━━━━━━\u001b[0m\u001b[37m\u001b[0m \u001b[1m2s\u001b[0m 63ms/step - loss: 5.7472e-04 - val_loss: 2.9297e-04\n",
      "Epoch 65/100\n",
      "\u001b[1m28/28\u001b[0m \u001b[32m━━━━━━━━━━━━━━━━━━━━\u001b[0m\u001b[37m\u001b[0m \u001b[1m2s\u001b[0m 64ms/step - loss: 5.9615e-04 - val_loss: 1.8269e-04\n",
      "Epoch 66/100\n",
      "\u001b[1m28/28\u001b[0m \u001b[32m━━━━━━━━━━━━━━━━━━━━\u001b[0m\u001b[37m\u001b[0m \u001b[1m2s\u001b[0m 62ms/step - loss: 4.8312e-04 - val_loss: 1.7876e-04\n",
      "Epoch 67/100\n",
      "\u001b[1m28/28\u001b[0m \u001b[32m━━━━━━━━━━━━━━━━━━━━\u001b[0m\u001b[37m\u001b[0m \u001b[1m2s\u001b[0m 65ms/step - loss: 0.0013 - val_loss: 1.5615e-04\n",
      "Epoch 68/100\n",
      "\u001b[1m28/28\u001b[0m \u001b[32m━━━━━━━━━━━━━━━━━━━━\u001b[0m\u001b[37m\u001b[0m \u001b[1m2s\u001b[0m 64ms/step - loss: 2.2227e-04 - val_loss: 1.5994e-04\n",
      "Epoch 69/100\n",
      "\u001b[1m28/28\u001b[0m \u001b[32m━━━━━━━━━━━━━━━━━━━━\u001b[0m\u001b[37m\u001b[0m \u001b[1m2s\u001b[0m 63ms/step - loss: 3.1666e-04 - val_loss: 1.5062e-04\n",
      "Epoch 70/100\n",
      "\u001b[1m28/28\u001b[0m \u001b[32m━━━━━━━━━━━━━━━━━━━━\u001b[0m\u001b[37m\u001b[0m \u001b[1m2s\u001b[0m 64ms/step - loss: 2.4460e-04 - val_loss: 1.3853e-04\n",
      "Epoch 71/100\n",
      "\u001b[1m28/28\u001b[0m \u001b[32m━━━━━━━━━━━━━━━━━━━━\u001b[0m\u001b[37m\u001b[0m \u001b[1m2s\u001b[0m 64ms/step - loss: 2.3091e-04 - val_loss: 1.6735e-04\n",
      "Epoch 72/100\n",
      "\u001b[1m28/28\u001b[0m \u001b[32m━━━━━━━━━━━━━━━━━━━━\u001b[0m\u001b[37m\u001b[0m \u001b[1m2s\u001b[0m 63ms/step - loss: 6.2293e-04 - val_loss: 1.5710e-04\n",
      "Epoch 73/100\n",
      "\u001b[1m28/28\u001b[0m \u001b[32m━━━━━━━━━━━━━━━━━━━━\u001b[0m\u001b[37m\u001b[0m \u001b[1m2s\u001b[0m 63ms/step - loss: 3.5548e-04 - val_loss: 1.5176e-04\n",
      "Epoch 74/100\n",
      "\u001b[1m28/28\u001b[0m \u001b[32m━━━━━━━━━━━━━━━━━━━━\u001b[0m\u001b[37m\u001b[0m \u001b[1m2s\u001b[0m 62ms/step - loss: 4.9521e-04 - val_loss: 2.1278e-04\n",
      "Epoch 75/100\n",
      "\u001b[1m28/28\u001b[0m \u001b[32m━━━━━━━━━━━━━━━━━━━━\u001b[0m\u001b[37m\u001b[0m \u001b[1m2s\u001b[0m 64ms/step - loss: 2.9555e-04 - val_loss: 2.0044e-04\n",
      "Epoch 76/100\n",
      "\u001b[1m28/28\u001b[0m \u001b[32m━━━━━━━━━━━━━━━━━━━━\u001b[0m\u001b[37m\u001b[0m \u001b[1m2s\u001b[0m 64ms/step - loss: 4.5728e-04 - val_loss: 1.5255e-04\n",
      "Epoch 77/100\n",
      "\u001b[1m28/28\u001b[0m \u001b[32m━━━━━━━━━━━━━━━━━━━━\u001b[0m\u001b[37m\u001b[0m \u001b[1m2s\u001b[0m 64ms/step - loss: 3.4819e-04 - val_loss: 2.3187e-04\n",
      "Epoch 78/100\n",
      "\u001b[1m28/28\u001b[0m \u001b[32m━━━━━━━━━━━━━━━━━━━━\u001b[0m\u001b[37m\u001b[0m \u001b[1m2s\u001b[0m 63ms/step - loss: 3.3482e-04 - val_loss: 1.7988e-04\n",
      "Epoch 79/100\n",
      "\u001b[1m28/28\u001b[0m \u001b[32m━━━━━━━━━━━━━━━━━━━━\u001b[0m\u001b[37m\u001b[0m \u001b[1m2s\u001b[0m 62ms/step - loss: 2.9910e-04 - val_loss: 1.3922e-04\n",
      "Epoch 80/100\n",
      "\u001b[1m28/28\u001b[0m \u001b[32m━━━━━━━━━━━━━━━━━━━━\u001b[0m\u001b[37m\u001b[0m \u001b[1m2s\u001b[0m 62ms/step - loss: 4.5411e-04 - val_loss: 1.4109e-04\n",
      "Epoch 81/100\n",
      "\u001b[1m28/28\u001b[0m \u001b[32m━━━━━━━━━━━━━━━━━━━━\u001b[0m\u001b[37m\u001b[0m \u001b[1m2s\u001b[0m 64ms/step - loss: 8.3027e-04 - val_loss: 1.3612e-04\n",
      "Epoch 82/100\n",
      "\u001b[1m28/28\u001b[0m \u001b[32m━━━━━━━━━━━━━━━━━━━━\u001b[0m\u001b[37m\u001b[0m \u001b[1m2s\u001b[0m 63ms/step - loss: 5.4126e-04 - val_loss: 1.8370e-04\n",
      "Epoch 83/100\n",
      "\u001b[1m28/28\u001b[0m \u001b[32m━━━━━━━━━━━━━━━━━━━━\u001b[0m\u001b[37m\u001b[0m \u001b[1m2s\u001b[0m 64ms/step - loss: 5.4685e-04 - val_loss: 1.3283e-04\n",
      "Epoch 84/100\n",
      "\u001b[1m28/28\u001b[0m \u001b[32m━━━━━━━━━━━━━━━━━━━━\u001b[0m\u001b[37m\u001b[0m \u001b[1m2s\u001b[0m 64ms/step - loss: 2.9660e-04 - val_loss: 1.7221e-04\n",
      "Epoch 85/100\n",
      "\u001b[1m28/28\u001b[0m \u001b[32m━━━━━━━━━━━━━━━━━━━━\u001b[0m\u001b[37m\u001b[0m \u001b[1m2s\u001b[0m 64ms/step - loss: 2.9112e-04 - val_loss: 1.7664e-04\n",
      "Epoch 86/100\n",
      "\u001b[1m28/28\u001b[0m \u001b[32m━━━━━━━━━━━━━━━━━━━━\u001b[0m\u001b[37m\u001b[0m \u001b[1m2s\u001b[0m 63ms/step - loss: 3.2120e-04 - val_loss: 2.5245e-04\n",
      "Epoch 87/100\n",
      "\u001b[1m28/28\u001b[0m \u001b[32m━━━━━━━━━━━━━━━━━━━━\u001b[0m\u001b[37m\u001b[0m \u001b[1m2s\u001b[0m 61ms/step - loss: 2.8193e-04 - val_loss: 1.4016e-04\n",
      "Epoch 88/100\n",
      "\u001b[1m28/28\u001b[0m \u001b[32m━━━━━━━━━━━━━━━━━━━━\u001b[0m\u001b[37m\u001b[0m \u001b[1m2s\u001b[0m 62ms/step - loss: 7.8193e-04 - val_loss: 1.7359e-04\n",
      "Epoch 89/100\n",
      "\u001b[1m28/28\u001b[0m \u001b[32m━━━━━━━━━━━━━━━━━━━━\u001b[0m\u001b[37m\u001b[0m \u001b[1m2s\u001b[0m 63ms/step - loss: 2.5782e-04 - val_loss: 1.3368e-04\n",
      "Epoch 90/100\n",
      "\u001b[1m28/28\u001b[0m \u001b[32m━━━━━━━━━━━━━━━━━━━━\u001b[0m\u001b[37m\u001b[0m \u001b[1m2s\u001b[0m 64ms/step - loss: 4.2242e-04 - val_loss: 1.4858e-04\n",
      "Epoch 91/100\n",
      "\u001b[1m28/28\u001b[0m \u001b[32m━━━━━━━━━━━━━━━━━━━━\u001b[0m\u001b[37m\u001b[0m \u001b[1m2s\u001b[0m 64ms/step - loss: 6.3108e-04 - val_loss: 1.3530e-04\n",
      "Epoch 92/100\n",
      "\u001b[1m28/28\u001b[0m \u001b[32m━━━━━━━━━━━━━━━━━━━━\u001b[0m\u001b[37m\u001b[0m \u001b[1m2s\u001b[0m 62ms/step - loss: 3.1366e-04 - val_loss: 2.0166e-04\n",
      "Epoch 93/100\n",
      "\u001b[1m28/28\u001b[0m \u001b[32m━━━━━━━━━━━━━━━━━━━━\u001b[0m\u001b[37m\u001b[0m \u001b[1m2s\u001b[0m 62ms/step - loss: 3.2070e-04 - val_loss: 1.5809e-04\n",
      "Epoch 94/100\n",
      "\u001b[1m28/28\u001b[0m \u001b[32m━━━━━━━━━━━━━━━━━━━━\u001b[0m\u001b[37m\u001b[0m \u001b[1m2s\u001b[0m 63ms/step - loss: 2.6131e-04 - val_loss: 1.5506e-04\n",
      "Epoch 95/100\n",
      "\u001b[1m28/28\u001b[0m \u001b[32m━━━━━━━━━━━━━━━━━━━━\u001b[0m\u001b[37m\u001b[0m \u001b[1m2s\u001b[0m 65ms/step - loss: 3.6297e-04 - val_loss: 1.2976e-04\n",
      "Epoch 96/100\n",
      "\u001b[1m28/28\u001b[0m \u001b[32m━━━━━━━━━━━━━━━━━━━━\u001b[0m\u001b[37m\u001b[0m \u001b[1m2s\u001b[0m 64ms/step - loss: 6.9412e-04 - val_loss: 1.4243e-04\n",
      "Epoch 97/100\n",
      "\u001b[1m28/28\u001b[0m \u001b[32m━━━━━━━━━━━━━━━━━━━━\u001b[0m\u001b[37m\u001b[0m \u001b[1m2s\u001b[0m 63ms/step - loss: 5.5230e-04 - val_loss: 1.4106e-04\n",
      "Epoch 98/100\n",
      "\u001b[1m28/28\u001b[0m \u001b[32m━━━━━━━━━━━━━━━━━━━━\u001b[0m\u001b[37m\u001b[0m \u001b[1m2s\u001b[0m 62ms/step - loss: 5.1995e-04 - val_loss: 1.3023e-04\n",
      "Epoch 99/100\n",
      "\u001b[1m28/28\u001b[0m \u001b[32m━━━━━━━━━━━━━━━━━━━━\u001b[0m\u001b[37m\u001b[0m \u001b[1m2s\u001b[0m 61ms/step - loss: 5.7647e-04 - val_loss: 2.1548e-04\n",
      "Epoch 100/100\n",
      "\u001b[1m28/28\u001b[0m \u001b[32m━━━━━━━━━━━━━━━━━━━━\u001b[0m\u001b[37m\u001b[0m \u001b[1m2s\u001b[0m 63ms/step - loss: 5.5070e-04 - val_loss: 1.4720e-04\n"
     ]
    },
    {
     "data": {
      "text/plain": [
       "<keras.src.callbacks.history.History at 0x2807c5af860>"
      ]
     },
     "execution_count": 25,
     "metadata": {},
     "output_type": "execute_result"
    }
   ],
   "source": [
    "model.fit(X_train, y_train, epochs=100, batch_size=64, validation_data=(X_test, y_test))"
   ]
  },
  {
   "cell_type": "code",
   "execution_count": 26,
   "id": "9137b5e3",
   "metadata": {},
   "outputs": [
    {
     "name": "stdout",
     "output_type": "stream",
     "text": [
      "\u001b[1m55/55\u001b[0m \u001b[32m━━━━━━━━━━━━━━━━━━━━\u001b[0m\u001b[37m\u001b[0m \u001b[1m2s\u001b[0m 28ms/step\n",
      "\u001b[1m22/22\u001b[0m \u001b[32m━━━━━━━━━━━━━━━━━━━━\u001b[0m\u001b[37m\u001b[0m \u001b[1m0s\u001b[0m 20ms/step\n"
     ]
    }
   ],
   "source": [
    "train_pred = model.predict(X_train)\n",
    "test_pred = model.predict(X_test)"
   ]
  },
  {
   "cell_type": "code",
   "execution_count": 27,
   "id": "e05954fc",
   "metadata": {},
   "outputs": [],
   "source": [
    "train_pred = scaler.inverse_transform(train_pred)\n",
    "test_pred = scaler.inverse_transform(test_pred)"
   ]
  },
  {
   "cell_type": "code",
   "execution_count": 28,
   "id": "7b53b23f",
   "metadata": {},
   "outputs": [],
   "source": [
    "import math\n",
    "from sklearn.metrics import mean_squared_error"
   ]
  },
  {
   "cell_type": "code",
   "execution_count": 29,
   "id": "6b48f40d",
   "metadata": {},
   "outputs": [
    {
     "data": {
      "text/plain": [
       "183.69533980986387"
      ]
     },
     "execution_count": 29,
     "metadata": {},
     "output_type": "execute_result"
    }
   ],
   "source": [
    "math.sqrt(mean_squared_error(y_train,train_pred))"
   ]
  },
  {
   "cell_type": "code",
   "execution_count": 30,
   "id": "3357e6ba",
   "metadata": {},
   "outputs": [
    {
     "data": {
      "text/plain": [
       "194.39782321262106"
      ]
     },
     "execution_count": 30,
     "metadata": {},
     "output_type": "execute_result"
    }
   ],
   "source": [
    "math.sqrt(mean_squared_error(y_test,test_pred))"
   ]
  },
  {
   "cell_type": "code",
   "execution_count": 31,
   "id": "981fbe7b",
   "metadata": {},
   "outputs": [
    {
     "data": {
      "image/png": "[encoded data removed]",
      "text/plain": [
       "<Figure size 640x480 with 1 Axes>"
      ]
     },
     "metadata": {},
     "output_type": "display_data"
    }
   ],
   "source": [
    "look_back = 100\n",
    "trainpredplot = np.empty_like(df1)\n",
    "trainpredplot[:,:] = np.nan\n",
    "trainpredplot[look_back:len(train_pred)+look_back,:] = train_pred\n",
    "\n",
    "testpredplot = np.empty_like(df1)\n",
    "testpredplot[:,:] = np.nan\n",
    "testpredplot[len(train_pred)+(look_back*2)+1:len(df1)-1, :] = test_pred\n",
    "\n",
    "plt.plot(scaler.inverse_transform(df1))\n",
    "plt.plot(trainpredplot)\n",
    "plt.plot(testpredplot)\n",
    "plt.show()"
   ]
  },
  {
   "cell_type": "code",
   "execution_count": 32,
   "id": "13f23ec4",
   "metadata": {},
   "outputs": [
    {
     "data": {
      "text/plain": [
       "695"
      ]
     },
     "execution_count": 32,
     "metadata": {},
     "output_type": "execute_result"
    }
   ],
   "source": [
    "len(test_data)-100"
   ]
  },
  {
   "cell_type": "code",
   "execution_count": 33,
   "id": "03a606c3",
   "metadata": {},
   "outputs": [
    {
     "data": {
      "text/plain": [
       "(1, 100)"
      ]
     },
     "execution_count": 33,
     "metadata": {},
     "output_type": "execute_result"
    }
   ],
   "source": [
    "x_input = test_data[len(test_data)-100:].reshape(1,-1)\n",
    "x_input.shape"
   ]
  },
  {
   "cell_type": "code",
   "execution_count": 34,
   "id": "a7e662f0",
   "metadata": {},
   "outputs": [],
   "source": [
    "temp_inp = list(x_input)\n",
    "temp_inp = temp_inp[0].tolist()"
   ]
  },
  {
   "cell_type": "code",
   "execution_count": 35,
   "id": "c0e988c9",
   "metadata": {},
   "outputs": [],
   "source": [
    "import pickle"
   ]
  },
  {
   "cell_type": "code",
   "execution_count": 36,
   "id": "eb80833d",
   "metadata": {},
   "outputs": [],
   "source": [
    "pickle.dump(scaler, open('scaler.pkl', 'wb'))"
   ]
  },
  {
   "cell_type": "code",
   "execution_count": 37,
   "id": "2922f279",
   "metadata": {},
   "outputs": [],
   "source": [
    "pickle.dump(model, open('model.pkl', 'wb'))"
   ]
  },
  {
   "cell_type": "code",
   "execution_count": 38,
   "id": "8255169c",
   "metadata": {},
   "outputs": [
    {
     "name": "stdout",
     "output_type": "stream",
     "text": [
      "[0.29337043]\n",
      "101\n",
      "1 day input [0.37332532 0.37705352 0.3769092  0.36084185 0.35348166 0.36440168\n",
      " 0.35523752 0.35018641 0.3497294  0.34874324 0.35773903 0.3298617\n",
      " 0.31389056 0.30460613 0.2870475  0.29621167 0.29743836 0.29428743\n",
      " 0.30042093 0.29767889 0.30770896 0.31362598 0.32088996 0.31555021\n",
      " 0.32113049 0.306819   0.31699339 0.31954299 0.3212267  0.27143716\n",
      " 0.23581479 0.21917017 0.19742634 0.2609982  0.24072159 0.25931449\n",
      " 0.26982562 0.26891161 0.24998196 0.2565003  0.24731209 0.26313891\n",
      " 0.27482862 0.28389657 0.28608539 0.28815394 0.2907276  0.29383043\n",
      " 0.29580277 0.27663259 0.26109441 0.2601804  0.25474444 0.257727\n",
      " 0.2602285  0.28971738 0.2948647  0.29342153 0.29130487 0.29084787\n",
      " 0.28488274 0.28026458 0.26879134 0.26703548 0.25238725 0.26426939\n",
      " 0.2647745  0.26364402 0.26580878 0.26785328 0.27162959 0.2705472\n",
      " 0.26527962 0.27319302 0.26725195 0.27018641 0.26082983 0.26184005\n",
      " 0.2552255  0.25996392 0.25327721 0.25553818 0.26616957 0.26737222\n",
      " 0.26448587 0.26751654 0.26616957 0.266362   0.27619964 0.28257366\n",
      " 0.29368611 0.29635598 0.28769693 0.28784125 0.29055923 0.29361395\n",
      " 0.29060734 0.2844979  0.28567649 0.29337043]\n",
      "1 day output [[0.2937747]]\n",
      "2 day input [0.37705352 0.3769092  0.36084185 0.35348166 0.36440168 0.35523752\n",
      " 0.35018641 0.3497294  0.34874324 0.35773903 0.3298617  0.31389056\n",
      " 0.30460613 0.2870475  0.29621167 0.29743836 0.29428743 0.30042093\n",
      " 0.29767889 0.30770896 0.31362598 0.32088996 0.31555021 0.32113049\n",
      " 0.306819   0.31699339 0.31954299 0.3212267  0.27143716 0.23581479\n",
      " 0.21917017 0.19742634 0.2609982  0.24072159 0.25931449 0.26982562\n",
      " 0.26891161 0.24998196 0.2565003  0.24731209 0.26313891 0.27482862\n",
      " 0.28389657 0.28608539 0.28815394 0.2907276  0.29383043 0.29580277\n",
      " 0.27663259 0.26109441 0.2601804  0.25474444 0.257727   0.2602285\n",
      " 0.28971738 0.2948647  0.29342153 0.29130487 0.29084787 0.28488274\n",
      " 0.28026458 0.26879134 0.26703548 0.25238725 0.26426939 0.2647745\n",
      " 0.26364402 0.26580878 0.26785328 0.27162959 0.2705472  0.26527962\n",
      " 0.27319302 0.26725195 0.27018641 0.26082983 0.26184005 0.2552255\n",
      " 0.25996392 0.25327721 0.25553818 0.26616957 0.26737222 0.26448587\n",
      " 0.26751654 0.26616957 0.266362   0.27619964 0.28257366 0.29368611\n",
      " 0.29635598 0.28769693 0.28784125 0.29055923 0.29361395 0.29060734\n",
      " 0.2844979  0.28567649 0.29337043 0.29377469]\n",
      "2 day output [[0.29552865]]\n",
      "3 day input [0.3769092  0.36084185 0.35348166 0.36440168 0.35523752 0.35018641\n",
      " 0.3497294  0.34874324 0.35773903 0.3298617  0.31389056 0.30460613\n",
      " 0.2870475  0.29621167 0.29743836 0.29428743 0.30042093 0.29767889\n",
      " 0.30770896 0.31362598 0.32088996 0.31555021 0.32113049 0.306819\n",
      " 0.31699339 0.31954299 0.3212267  0.27143716 0.23581479 0.21917017\n",
      " 0.19742634 0.2609982  0.24072159 0.25931449 0.26982562 0.26891161\n",
      " 0.24998196 0.2565003  0.24731209 0.26313891 0.27482862 0.28389657\n",
      " 0.28608539 0.28815394 0.2907276  0.29383043 0.29580277 0.27663259\n",
      " 0.26109441 0.2601804  0.25474444 0.257727   0.2602285  0.28971738\n",
      " 0.2948647  0.29342153 0.29130487 0.29084787 0.28488274 0.28026458\n",
      " 0.26879134 0.26703548 0.25238725 0.26426939 0.2647745  0.26364402\n",
      " 0.26580878 0.26785328 0.27162959 0.2705472  0.26527962 0.27319302\n",
      " 0.26725195 0.27018641 0.26082983 0.26184005 0.2552255  0.25996392\n",
      " 0.25327721 0.25553818 0.26616957 0.26737222 0.26448587 0.26751654\n",
      " 0.26616957 0.266362   0.27619964 0.28257366 0.29368611 0.29635598\n",
      " 0.28769693 0.28784125 0.29055923 0.29361395 0.29060734 0.2844979\n",
      " 0.28567649 0.29337043 0.29377469 0.29552865]\n",
      "3 day output [[0.29789305]]\n",
      "4 day input [0.36084185 0.35348166 0.36440168 0.35523752 0.35018641 0.3497294\n",
      " 0.34874324 0.35773903 0.3298617  0.31389056 0.30460613 0.2870475\n",
      " 0.29621167 0.29743836 0.29428743 0.30042093 0.29767889 0.30770896\n",
      " 0.31362598 0.32088996 0.31555021 0.32113049 0.306819   0.31699339\n",
      " 0.31954299 0.3212267  0.27143716 0.23581479 0.21917017 0.19742634\n",
      " 0.2609982  0.24072159 0.25931449 0.26982562 0.26891161 0.24998196\n",
      " 0.2565003  0.24731209 0.26313891 0.27482862 0.28389657 0.28608539\n",
      " 0.28815394 0.2907276  0.29383043 0.29580277 0.27663259 0.26109441\n",
      " 0.2601804  0.25474444 0.257727   0.2602285  0.28971738 0.2948647\n",
      " 0.29342153 0.29130487 0.29084787 0.28488274 0.28026458 0.26879134\n",
      " 0.26703548 0.25238725 0.26426939 0.2647745  0.26364402 0.26580878\n",
      " 0.26785328 0.27162959 0.2705472  0.26527962 0.27319302 0.26725195\n",
      " 0.27018641 0.26082983 0.26184005 0.2552255  0.25996392 0.25327721\n",
      " 0.25553818 0.26616957 0.26737222 0.26448587 0.26751654 0.26616957\n",
      " 0.266362   0.27619964 0.28257366 0.29368611 0.29635598 0.28769693\n",
      " 0.28784125 0.29055923 0.29361395 0.29060734 0.2844979  0.28567649\n",
      " 0.29337043 0.29377469 0.29552865 0.29789305]\n",
      "4 day output [[0.30049866]]\n",
      "5 day input [0.35348166 0.36440168 0.35523752 0.35018641 0.3497294  0.34874324\n",
      " 0.35773903 0.3298617  0.31389056 0.30460613 0.2870475  0.29621167\n",
      " 0.29743836 0.29428743 0.30042093 0.29767889 0.30770896 0.31362598\n",
      " 0.32088996 0.31555021 0.32113049 0.306819   0.31699339 0.31954299\n",
      " 0.3212267  0.27143716 0.23581479 0.21917017 0.19742634 0.2609982\n",
      " 0.24072159 0.25931449 0.26982562 0.26891161 0.24998196 0.2565003\n",
      " 0.24731209 0.26313891 0.27482862 0.28389657 0.28608539 0.28815394\n",
      " 0.2907276  0.29383043 0.29580277 0.27663259 0.26109441 0.2601804\n",
      " 0.25474444 0.257727   0.2602285  0.28971738 0.2948647  0.29342153\n",
      " 0.29130487 0.29084787 0.28488274 0.28026458 0.26879134 0.26703548\n",
      " 0.25238725 0.26426939 0.2647745  0.26364402 0.26580878 0.26785328\n",
      " 0.27162959 0.2705472  0.26527962 0.27319302 0.26725195 0.27018641\n",
      " 0.26082983 0.26184005 0.2552255  0.25996392 0.25327721 0.25553818\n",
      " 0.26616957 0.26737222 0.26448587 0.26751654 0.26616957 0.266362\n",
      " 0.27619964 0.28257366 0.29368611 0.29635598 0.28769693 0.28784125\n",
      " 0.29055923 0.29361395 0.29060734 0.2844979  0.28567649 0.29337043\n",
      " 0.29377469 0.29552865 0.29789305 0.30049866]\n",
      "5 day output [[0.30317748]]\n",
      "6 day input [0.36440168 0.35523752 0.35018641 0.3497294  0.34874324 0.35773903\n",
      " 0.3298617  0.31389056 0.30460613 0.2870475  0.29621167 0.29743836\n",
      " 0.29428743 0.30042093 0.29767889 0.30770896 0.31362598 0.32088996\n",
      " 0.31555021 0.32113049 0.306819   0.31699339 0.31954299 0.3212267\n",
      " 0.27143716 0.23581479 0.21917017 0.19742634 0.2609982  0.24072159\n",
      " 0.25931449 0.26982562 0.26891161 0.24998196 0.2565003  0.24731209\n",
      " 0.26313891 0.27482862 0.28389657 0.28608539 0.28815394 0.2907276\n",
      " 0.29383043 0.29580277 0.27663259 0.26109441 0.2601804  0.25474444\n",
      " 0.257727   0.2602285  0.28971738 0.2948647  0.29342153 0.29130487\n",
      " 0.29084787 0.28488274 0.28026458 0.26879134 0.26703548 0.25238725\n",
      " 0.26426939 0.2647745  0.26364402 0.26580878 0.26785328 0.27162959\n",
      " 0.2705472  0.26527962 0.27319302 0.26725195 0.27018641 0.26082983\n",
      " 0.26184005 0.2552255  0.25996392 0.25327721 0.25553818 0.26616957\n",
      " 0.26737222 0.26448587 0.26751654 0.26616957 0.266362   0.27619964\n",
      " 0.28257366 0.29368611 0.29635598 0.28769693 0.28784125 0.29055923\n",
      " 0.29361395 0.29060734 0.2844979  0.28567649 0.29337043 0.29377469\n",
      " 0.29552865 0.29789305 0.30049866 0.30317748]\n",
      "6 day output [[0.30584738]]\n",
      "7 day input [0.35523752 0.35018641 0.3497294  0.34874324 0.35773903 0.3298617\n",
      " 0.31389056 0.30460613 0.2870475  0.29621167 0.29743836 0.29428743\n",
      " 0.30042093 0.29767889 0.30770896 0.31362598 0.32088996 0.31555021\n",
      " 0.32113049 0.306819   0.31699339 0.31954299 0.3212267  0.27143716\n",
      " 0.23581479 0.21917017 0.19742634 0.2609982  0.24072159 0.25931449\n",
      " 0.26982562 0.26891161 0.24998196 0.2565003  0.24731209 0.26313891\n",
      " 0.27482862 0.28389657 0.28608539 0.28815394 0.2907276  0.29383043\n",
      " 0.29580277 0.27663259 0.26109441 0.2601804  0.25474444 0.257727\n",
      " 0.2602285  0.28971738 0.2948647  0.29342153 0.29130487 0.29084787\n",
      " 0.28488274 0.28026458 0.26879134 0.26703548 0.25238725 0.26426939\n",
      " 0.2647745  0.26364402 0.26580878 0.26785328 0.27162959 0.2705472\n",
      " 0.26527962 0.27319302 0.26725195 0.27018641 0.26082983 0.26184005\n",
      " 0.2552255  0.25996392 0.25327721 0.25553818 0.26616957 0.26737222\n",
      " 0.26448587 0.26751654 0.26616957 0.266362   0.27619964 0.28257366\n",
      " 0.29368611 0.29635598 0.28769693 0.28784125 0.29055923 0.29361395\n",
      " 0.29060734 0.2844979  0.28567649 0.29337043 0.29377469 0.29552865\n",
      " 0.29789305 0.30049866 0.30317748 0.30584738]\n",
      "7 day output [[0.30846408]]\n",
      "8 day input [0.35018641 0.3497294  0.34874324 0.35773903 0.3298617  0.31389056\n",
      " 0.30460613 0.2870475  0.29621167 0.29743836 0.29428743 0.30042093\n",
      " 0.29767889 0.30770896 0.31362598 0.32088996 0.31555021 0.32113049\n",
      " 0.306819   0.31699339 0.31954299 0.3212267  0.27143716 0.23581479\n",
      " 0.21917017 0.19742634 0.2609982  0.24072159 0.25931449 0.26982562\n",
      " 0.26891161 0.24998196 0.2565003  0.24731209 0.26313891 0.27482862\n",
      " 0.28389657 0.28608539 0.28815394 0.2907276  0.29383043 0.29580277\n",
      " 0.27663259 0.26109441 0.2601804  0.25474444 0.257727   0.2602285\n",
      " 0.28971738 0.2948647  0.29342153 0.29130487 0.29084787 0.28488274\n",
      " 0.28026458 0.26879134 0.26703548 0.25238725 0.26426939 0.2647745\n",
      " 0.26364402 0.26580878 0.26785328 0.27162959 0.2705472  0.26527962\n",
      " 0.27319302 0.26725195 0.27018641 0.26082983 0.26184005 0.2552255\n",
      " 0.25996392 0.25327721 0.25553818 0.26616957 0.26737222 0.26448587\n",
      " 0.26751654 0.26616957 0.266362   0.27619964 0.28257366 0.29368611\n",
      " 0.29635598 0.28769693 0.28784125 0.29055923 0.29361395 0.29060734\n",
      " 0.2844979  0.28567649 0.29337043 0.29377469 0.29552865 0.29789305\n",
      " 0.30049866 0.30317748 0.30584738 0.30846408]\n",
      "8 day output [[0.31100762]]\n",
      "9 day input [0.3497294  0.34874324 0.35773903 0.3298617  0.31389056 0.30460613\n",
      " 0.2870475  0.29621167 0.29743836 0.29428743 0.30042093 0.29767889\n",
      " 0.30770896 0.31362598 0.32088996 0.31555021 0.32113049 0.306819\n",
      " 0.31699339 0.31954299 0.3212267  0.27143716 0.23581479 0.21917017\n",
      " 0.19742634 0.2609982  0.24072159 0.25931449 0.26982562 0.26891161\n",
      " 0.24998196 0.2565003  0.24731209 0.26313891 0.27482862 0.28389657\n",
      " 0.28608539 0.28815394 0.2907276  0.29383043 0.29580277 0.27663259\n",
      " 0.26109441 0.2601804  0.25474444 0.257727   0.2602285  0.28971738\n",
      " 0.2948647  0.29342153 0.29130487 0.29084787 0.28488274 0.28026458\n",
      " 0.26879134 0.26703548 0.25238725 0.26426939 0.2647745  0.26364402\n",
      " 0.26580878 0.26785328 0.27162959 0.2705472  0.26527962 0.27319302\n",
      " 0.26725195 0.27018641 0.26082983 0.26184005 0.2552255  0.25996392\n",
      " 0.25327721 0.25553818 0.26616957 0.26737222 0.26448587 0.26751654\n",
      " 0.26616957 0.266362   0.27619964 0.28257366 0.29368611 0.29635598\n",
      " 0.28769693 0.28784125 0.29055923 0.29361395 0.29060734 0.2844979\n",
      " 0.28567649 0.29337043 0.29377469 0.29552865 0.29789305 0.30049866\n",
      " 0.30317748 0.30584738 0.30846408 0.31100762]\n",
      "9 day output [[0.31347796]]\n",
      "10 day input [0.34874324 0.35773903 0.3298617  0.31389056 0.30460613 0.2870475\n",
      " 0.29621167 0.29743836 0.29428743 0.30042093 0.29767889 0.30770896\n",
      " 0.31362598 0.32088996 0.31555021 0.32113049 0.306819   0.31699339\n",
      " 0.31954299 0.3212267  0.27143716 0.23581479 0.21917017 0.19742634\n",
      " 0.2609982  0.24072159 0.25931449 0.26982562 0.26891161 0.24998196\n",
      " 0.2565003  0.24731209 0.26313891 0.27482862 0.28389657 0.28608539\n",
      " 0.28815394 0.2907276  0.29383043 0.29580277 0.27663259 0.26109441\n",
      " 0.2601804  0.25474444 0.257727   0.2602285  0.28971738 0.2948647\n",
      " 0.29342153 0.29130487 0.29084787 0.28488274 0.28026458 0.26879134\n",
      " 0.26703548 0.25238725 0.26426939 0.2647745  0.26364402 0.26580878\n",
      " 0.26785328 0.27162959 0.2705472  0.26527962 0.27319302 0.26725195\n",
      " 0.27018641 0.26082983 0.26184005 0.2552255  0.25996392 0.25327721\n",
      " 0.25553818 0.26616957 0.26737222 0.26448587 0.26751654 0.26616957\n",
      " 0.266362   0.27619964 0.28257366 0.29368611 0.29635598 0.28769693\n",
      " 0.28784125 0.29055923 0.29361395 0.29060734 0.2844979  0.28567649\n",
      " 0.29337043 0.29377469 0.29552865 0.29789305 0.30049866 0.30317748\n",
      " 0.30584738 0.30846408 0.31100762 0.31347796]\n",
      "10 day output [[0.31589314]]\n",
      "11 day input [0.35773903 0.3298617  0.31389056 0.30460613 0.2870475  0.29621167\n",
      " 0.29743836 0.29428743 0.30042093 0.29767889 0.30770896 0.31362598\n",
      " 0.32088996 0.31555021 0.32113049 0.306819   0.31699339 0.31954299\n",
      " 0.3212267  0.27143716 0.23581479 0.21917017 0.19742634 0.2609982\n",
      " 0.24072159 0.25931449 0.26982562 0.26891161 0.24998196 0.2565003\n",
      " 0.24731209 0.26313891 0.27482862 0.28389657 0.28608539 0.28815394\n",
      " 0.2907276  0.29383043 0.29580277 0.27663259 0.26109441 0.2601804\n",
      " 0.25474444 0.257727   0.2602285  0.28971738 0.2948647  0.29342153\n",
      " 0.29130487 0.29084787 0.28488274 0.28026458 0.26879134 0.26703548\n",
      " 0.25238725 0.26426939 0.2647745  0.26364402 0.26580878 0.26785328\n",
      " 0.27162959 0.2705472  0.26527962 0.27319302 0.26725195 0.27018641\n",
      " 0.26082983 0.26184005 0.2552255  0.25996392 0.25327721 0.25553818\n",
      " 0.26616957 0.26737222 0.26448587 0.26751654 0.26616957 0.266362\n",
      " 0.27619964 0.28257366 0.29368611 0.29635598 0.28769693 0.28784125\n",
      " 0.29055923 0.29361395 0.29060734 0.2844979  0.28567649 0.29337043\n",
      " 0.29377469 0.29552865 0.29789305 0.30049866 0.30317748 0.30584738\n",
      " 0.30846408 0.31100762 0.31347796 0.31589314]\n",
      "11 day output [[0.31828478]]\n",
      "12 day input [0.3298617  0.31389056 0.30460613 0.2870475  0.29621167 0.29743836\n",
      " 0.29428743 0.30042093 0.29767889 0.30770896 0.31362598 0.32088996\n",
      " 0.31555021 0.32113049 0.306819   0.31699339 0.31954299 0.3212267\n",
      " 0.27143716 0.23581479 0.21917017 0.19742634 0.2609982  0.24072159\n",
      " 0.25931449 0.26982562 0.26891161 0.24998196 0.2565003  0.24731209\n",
      " 0.26313891 0.27482862 0.28389657 0.28608539 0.28815394 0.2907276\n",
      " 0.29383043 0.29580277 0.27663259 0.26109441 0.2601804  0.25474444\n",
      " 0.257727   0.2602285  0.28971738 0.2948647  0.29342153 0.29130487\n",
      " 0.29084787 0.28488274 0.28026458 0.26879134 0.26703548 0.25238725\n",
      " 0.26426939 0.2647745  0.26364402 0.26580878 0.26785328 0.27162959\n",
      " 0.2705472  0.26527962 0.27319302 0.26725195 0.27018641 0.26082983\n",
      " 0.26184005 0.2552255  0.25996392 0.25327721 0.25553818 0.26616957\n",
      " 0.26737222 0.26448587 0.26751654 0.26616957 0.266362   0.27619964\n",
      " 0.28257366 0.29368611 0.29635598 0.28769693 0.28784125 0.29055923\n",
      " 0.29361395 0.29060734 0.2844979  0.28567649 0.29337043 0.29377469\n",
      " 0.29552865 0.29789305 0.30049866 0.30317748 0.30584738 0.30846408\n",
      " 0.31100762 0.31347796 0.31589314 0.31828478]\n",
      "12 day output [[0.32069394]]\n",
      "13 day input [0.31389056 0.30460613 0.2870475  0.29621167 0.29743836 0.29428743\n",
      " 0.30042093 0.29767889 0.30770896 0.31362598 0.32088996 0.31555021\n",
      " 0.32113049 0.306819   0.31699339 0.31954299 0.3212267  0.27143716\n",
      " 0.23581479 0.21917017 0.19742634 0.2609982  0.24072159 0.25931449\n",
      " 0.26982562 0.26891161 0.24998196 0.2565003  0.24731209 0.26313891\n",
      " 0.27482862 0.28389657 0.28608539 0.28815394 0.2907276  0.29383043\n",
      " 0.29580277 0.27663259 0.26109441 0.2601804  0.25474444 0.257727\n",
      " 0.2602285  0.28971738 0.2948647  0.29342153 0.29130487 0.29084787\n",
      " 0.28488274 0.28026458 0.26879134 0.26703548 0.25238725 0.26426939\n",
      " 0.2647745  0.26364402 0.26580878 0.26785328 0.27162959 0.2705472\n",
      " 0.26527962 0.27319302 0.26725195 0.27018641 0.26082983 0.26184005\n",
      " 0.2552255  0.25996392 0.25327721 0.25553818 0.26616957 0.26737222\n",
      " 0.26448587 0.26751654 0.26616957 0.266362   0.27619964 0.28257366\n",
      " 0.29368611 0.29635598 0.28769693 0.28784125 0.29055923 0.29361395\n",
      " 0.29060734 0.2844979  0.28567649 0.29337043 0.29377469 0.29552865\n",
      " 0.29789305 0.30049866 0.30317748 0.30584738 0.30846408 0.31100762\n",
      " 0.31347796 0.31589314 0.31828478 0.32069394]\n",
      "13 day output [[0.32316512]]\n",
      "14 day input [0.30460613 0.2870475  0.29621167 0.29743836 0.29428743 0.30042093\n",
      " 0.29767889 0.30770896 0.31362598 0.32088996 0.31555021 0.32113049\n",
      " 0.306819   0.31699339 0.31954299 0.3212267  0.27143716 0.23581479\n",
      " 0.21917017 0.19742634 0.2609982  0.24072159 0.25931449 0.26982562\n",
      " 0.26891161 0.24998196 0.2565003  0.24731209 0.26313891 0.27482862\n",
      " 0.28389657 0.28608539 0.28815394 0.2907276  0.29383043 0.29580277\n",
      " 0.27663259 0.26109441 0.2601804  0.25474444 0.257727   0.2602285\n",
      " 0.28971738 0.2948647  0.29342153 0.29130487 0.29084787 0.28488274\n",
      " 0.28026458 0.26879134 0.26703548 0.25238725 0.26426939 0.2647745\n",
      " 0.26364402 0.26580878 0.26785328 0.27162959 0.2705472  0.26527962\n",
      " 0.27319302 0.26725195 0.27018641 0.26082983 0.26184005 0.2552255\n",
      " 0.25996392 0.25327721 0.25553818 0.26616957 0.26737222 0.26448587\n",
      " 0.26751654 0.26616957 0.266362   0.27619964 0.28257366 0.29368611\n",
      " 0.29635598 0.28769693 0.28784125 0.29055923 0.29361395 0.29060734\n",
      " 0.2844979  0.28567649 0.29337043 0.29377469 0.29552865 0.29789305\n",
      " 0.30049866 0.30317748 0.30584738 0.30846408 0.31100762 0.31347796\n",
      " 0.31589314 0.31828478 0.32069394 0.32316512]\n",
      "14 day output [[0.3257419]]\n",
      "15 day input [0.2870475  0.29621167 0.29743836 0.29428743 0.30042093 0.29767889\n",
      " 0.30770896 0.31362598 0.32088996 0.31555021 0.32113049 0.306819\n",
      " 0.31699339 0.31954299 0.3212267  0.27143716 0.23581479 0.21917017\n",
      " 0.19742634 0.2609982  0.24072159 0.25931449 0.26982562 0.26891161\n",
      " 0.24998196 0.2565003  0.24731209 0.26313891 0.27482862 0.28389657\n",
      " 0.28608539 0.28815394 0.2907276  0.29383043 0.29580277 0.27663259\n",
      " 0.26109441 0.2601804  0.25474444 0.257727   0.2602285  0.28971738\n",
      " 0.2948647  0.29342153 0.29130487 0.29084787 0.28488274 0.28026458\n",
      " 0.26879134 0.26703548 0.25238725 0.26426939 0.2647745  0.26364402\n",
      " 0.26580878 0.26785328 0.27162959 0.2705472  0.26527962 0.27319302\n",
      " 0.26725195 0.27018641 0.26082983 0.26184005 0.2552255  0.25996392\n",
      " 0.25327721 0.25553818 0.26616957 0.26737222 0.26448587 0.26751654\n",
      " 0.26616957 0.266362   0.27619964 0.28257366 0.29368611 0.29635598\n",
      " 0.28769693 0.28784125 0.29055923 0.29361395 0.29060734 0.2844979\n",
      " 0.28567649 0.29337043 0.29377469 0.29552865 0.29789305 0.30049866\n",
      " 0.30317748 0.30584738 0.30846408 0.31100762 0.31347796 0.31589314\n",
      " 0.31828478 0.32069394 0.32316512 0.32574189]\n",
      "15 day output [[0.32846284]]\n",
      "16 day input [0.29621167 0.29743836 0.29428743 0.30042093 0.29767889 0.30770896\n",
      " 0.31362598 0.32088996 0.31555021 0.32113049 0.306819   0.31699339\n",
      " 0.31954299 0.3212267  0.27143716 0.23581479 0.21917017 0.19742634\n",
      " 0.2609982  0.24072159 0.25931449 0.26982562 0.26891161 0.24998196\n",
      " 0.2565003  0.24731209 0.26313891 0.27482862 0.28389657 0.28608539\n",
      " 0.28815394 0.2907276  0.29383043 0.29580277 0.27663259 0.26109441\n",
      " 0.2601804  0.25474444 0.257727   0.2602285  0.28971738 0.2948647\n",
      " 0.29342153 0.29130487 0.29084787 0.28488274 0.28026458 0.26879134\n",
      " 0.26703548 0.25238725 0.26426939 0.2647745  0.26364402 0.26580878\n",
      " 0.26785328 0.27162959 0.2705472  0.26527962 0.27319302 0.26725195\n",
      " 0.27018641 0.26082983 0.26184005 0.2552255  0.25996392 0.25327721\n",
      " 0.25553818 0.26616957 0.26737222 0.26448587 0.26751654 0.26616957\n",
      " 0.266362   0.27619964 0.28257366 0.29368611 0.29635598 0.28769693\n",
      " 0.28784125 0.29055923 0.29361395 0.29060734 0.2844979  0.28567649\n",
      " 0.29337043 0.29377469 0.29552865 0.29789305 0.30049866 0.30317748\n",
      " 0.30584738 0.30846408 0.31100762 0.31347796 0.31589314 0.31828478\n",
      " 0.32069394 0.32316512 0.32574189 0.32846284]\n",
      "16 day output [[0.33135775]]\n",
      "17 day input [0.29743836 0.29428743 0.30042093 0.29767889 0.30770896 0.31362598\n",
      " 0.32088996 0.31555021 0.32113049 0.306819   0.31699339 0.31954299\n",
      " 0.3212267  0.27143716 0.23581479 0.21917017 0.19742634 0.2609982\n",
      " 0.24072159 0.25931449 0.26982562 0.26891161 0.24998196 0.2565003\n",
      " 0.24731209 0.26313891 0.27482862 0.28389657 0.28608539 0.28815394\n",
      " 0.2907276  0.29383043 0.29580277 0.27663259 0.26109441 0.2601804\n",
      " 0.25474444 0.257727   0.2602285  0.28971738 0.2948647  0.29342153\n",
      " 0.29130487 0.29084787 0.28488274 0.28026458 0.26879134 0.26703548\n",
      " 0.25238725 0.26426939 0.2647745  0.26364402 0.26580878 0.26785328\n",
      " 0.27162959 0.2705472  0.26527962 0.27319302 0.26725195 0.27018641\n",
      " 0.26082983 0.26184005 0.2552255  0.25996392 0.25327721 0.25553818\n",
      " 0.26616957 0.26737222 0.26448587 0.26751654 0.26616957 0.266362\n",
      " 0.27619964 0.28257366 0.29368611 0.29635598 0.28769693 0.28784125\n",
      " 0.29055923 0.29361395 0.29060734 0.2844979  0.28567649 0.29337043\n",
      " 0.29377469 0.29552865 0.29789305 0.30049866 0.30317748 0.30584738\n",
      " 0.30846408 0.31100762 0.31347796 0.31589314 0.31828478 0.32069394\n",
      " 0.32316512 0.32574189 0.32846284 0.33135775]\n",
      "17 day output [[0.33444735]]\n",
      "18 day input [0.29428743 0.30042093 0.29767889 0.30770896 0.31362598 0.32088996\n",
      " 0.31555021 0.32113049 0.306819   0.31699339 0.31954299 0.3212267\n",
      " 0.27143716 0.23581479 0.21917017 0.19742634 0.2609982  0.24072159\n",
      " 0.25931449 0.26982562 0.26891161 0.24998196 0.2565003  0.24731209\n",
      " 0.26313891 0.27482862 0.28389657 0.28608539 0.28815394 0.2907276\n",
      " 0.29383043 0.29580277 0.27663259 0.26109441 0.2601804  0.25474444\n",
      " 0.257727   0.2602285  0.28971738 0.2948647  0.29342153 0.29130487\n",
      " 0.29084787 0.28488274 0.28026458 0.26879134 0.26703548 0.25238725\n",
      " 0.26426939 0.2647745  0.26364402 0.26580878 0.26785328 0.27162959\n",
      " 0.2705472  0.26527962 0.27319302 0.26725195 0.27018641 0.26082983\n",
      " 0.26184005 0.2552255  0.25996392 0.25327721 0.25553818 0.26616957\n",
      " 0.26737222 0.26448587 0.26751654 0.26616957 0.266362   0.27619964\n",
      " 0.28257366 0.29368611 0.29635598 0.28769693 0.28784125 0.29055923\n",
      " 0.29361395 0.29060734 0.2844979  0.28567649 0.29337043 0.29377469\n",
      " 0.29552865 0.29789305 0.30049866 0.30317748 0.30584738 0.30846408\n",
      " 0.31100762 0.31347796 0.31589314 0.31828478 0.32069394 0.32316512\n",
      " 0.32574189 0.32846284 0.33135775 0.33444735]\n",
      "18 day output [[0.33774155]]\n",
      "19 day input [0.30042093 0.29767889 0.30770896 0.31362598 0.32088996 0.31555021\n",
      " 0.32113049 0.306819   0.31699339 0.31954299 0.3212267  0.27143716\n",
      " 0.23581479 0.21917017 0.19742634 0.2609982  0.24072159 0.25931449\n",
      " 0.26982562 0.26891161 0.24998196 0.2565003  0.24731209 0.26313891\n",
      " 0.27482862 0.28389657 0.28608539 0.28815394 0.2907276  0.29383043\n",
      " 0.29580277 0.27663259 0.26109441 0.2601804  0.25474444 0.257727\n",
      " 0.2602285  0.28971738 0.2948647  0.29342153 0.29130487 0.29084787\n",
      " 0.28488274 0.28026458 0.26879134 0.26703548 0.25238725 0.26426939\n",
      " 0.2647745  0.26364402 0.26580878 0.26785328 0.27162959 0.2705472\n",
      " 0.26527962 0.27319302 0.26725195 0.27018641 0.26082983 0.26184005\n",
      " 0.2552255  0.25996392 0.25327721 0.25553818 0.26616957 0.26737222\n",
      " 0.26448587 0.26751654 0.26616957 0.266362   0.27619964 0.28257366\n",
      " 0.29368611 0.29635598 0.28769693 0.28784125 0.29055923 0.29361395\n",
      " 0.29060734 0.2844979  0.28567649 0.29337043 0.29377469 0.29552865\n",
      " 0.29789305 0.30049866 0.30317748 0.30584738 0.30846408 0.31100762\n",
      " 0.31347796 0.31589314 0.31828478 0.32069394 0.32316512 0.32574189\n",
      " 0.32846284 0.33135775 0.33444735 0.33774155]\n",
      "19 day output [[0.3412403]]\n",
      "20 day input [0.29767889 0.30770896 0.31362598 0.32088996 0.31555021 0.32113049\n",
      " 0.306819   0.31699339 0.31954299 0.3212267  0.27143716 0.23581479\n",
      " 0.21917017 0.19742634 0.2609982  0.24072159 0.25931449 0.26982562\n",
      " 0.26891161 0.24998196 0.2565003  0.24731209 0.26313891 0.27482862\n",
      " 0.28389657 0.28608539 0.28815394 0.2907276  0.29383043 0.29580277\n",
      " 0.27663259 0.26109441 0.2601804  0.25474444 0.257727   0.2602285\n",
      " 0.28971738 0.2948647  0.29342153 0.29130487 0.29084787 0.28488274\n",
      " 0.28026458 0.26879134 0.26703548 0.25238725 0.26426939 0.2647745\n",
      " 0.26364402 0.26580878 0.26785328 0.27162959 0.2705472  0.26527962\n",
      " 0.27319302 0.26725195 0.27018641 0.26082983 0.26184005 0.2552255\n",
      " 0.25996392 0.25327721 0.25553818 0.26616957 0.26737222 0.26448587\n",
      " 0.26751654 0.26616957 0.266362   0.27619964 0.28257366 0.29368611\n",
      " 0.29635598 0.28769693 0.28784125 0.29055923 0.29361395 0.29060734\n",
      " 0.2844979  0.28567649 0.29337043 0.29377469 0.29552865 0.29789305\n",
      " 0.30049866 0.30317748 0.30584738 0.30846408 0.31100762 0.31347796\n",
      " 0.31589314 0.31828478 0.32069394 0.32316512 0.32574189 0.32846284\n",
      " 0.33135775 0.33444735 0.33774155 0.34124029]\n",
      "20 day output [[0.34493592]]\n",
      "21 day input [0.30770896 0.31362598 0.32088996 0.31555021 0.32113049 0.306819\n",
      " 0.31699339 0.31954299 0.3212267  0.27143716 0.23581479 0.21917017\n",
      " 0.19742634 0.2609982  0.24072159 0.25931449 0.26982562 0.26891161\n",
      " 0.24998196 0.2565003  0.24731209 0.26313891 0.27482862 0.28389657\n",
      " 0.28608539 0.28815394 0.2907276  0.29383043 0.29580277 0.27663259\n",
      " 0.26109441 0.2601804  0.25474444 0.257727   0.2602285  0.28971738\n",
      " 0.2948647  0.29342153 0.29130487 0.29084787 0.28488274 0.28026458\n",
      " 0.26879134 0.26703548 0.25238725 0.26426939 0.2647745  0.26364402\n",
      " 0.26580878 0.26785328 0.27162959 0.2705472  0.26527962 0.27319302\n",
      " 0.26725195 0.27018641 0.26082983 0.26184005 0.2552255  0.25996392\n",
      " 0.25327721 0.25553818 0.26616957 0.26737222 0.26448587 0.26751654\n",
      " 0.26616957 0.266362   0.27619964 0.28257366 0.29368611 0.29635598\n",
      " 0.28769693 0.28784125 0.29055923 0.29361395 0.29060734 0.2844979\n",
      " 0.28567649 0.29337043 0.29377469 0.29552865 0.29789305 0.30049866\n",
      " 0.30317748 0.30584738 0.30846408 0.31100762 0.31347796 0.31589314\n",
      " 0.31828478 0.32069394 0.32316512 0.32574189 0.32846284 0.33135775\n",
      " 0.33444735 0.33774155 0.34124029 0.34493592]\n",
      "21 day output [[0.3488141]]\n",
      "22 day input [0.31362598 0.32088996 0.31555021 0.32113049 0.306819   0.31699339\n",
      " 0.31954299 0.3212267  0.27143716 0.23581479 0.21917017 0.19742634\n",
      " 0.2609982  0.24072159 0.25931449 0.26982562 0.26891161 0.24998196\n",
      " 0.2565003  0.24731209 0.26313891 0.27482862 0.28389657 0.28608539\n",
      " 0.28815394 0.2907276  0.29383043 0.29580277 0.27663259 0.26109441\n",
      " 0.2601804  0.25474444 0.257727   0.2602285  0.28971738 0.2948647\n",
      " 0.29342153 0.29130487 0.29084787 0.28488274 0.28026458 0.26879134\n",
      " 0.26703548 0.25238725 0.26426939 0.2647745  0.26364402 0.26580878\n",
      " 0.26785328 0.27162959 0.2705472  0.26527962 0.27319302 0.26725195\n",
      " 0.27018641 0.26082983 0.26184005 0.2552255  0.25996392 0.25327721\n",
      " 0.25553818 0.26616957 0.26737222 0.26448587 0.26751654 0.26616957\n",
      " 0.266362   0.27619964 0.28257366 0.29368611 0.29635598 0.28769693\n",
      " 0.28784125 0.29055923 0.29361395 0.29060734 0.2844979  0.28567649\n",
      " 0.29337043 0.29377469 0.29552865 0.29789305 0.30049866 0.30317748\n",
      " 0.30584738 0.30846408 0.31100762 0.31347796 0.31589314 0.31828478\n",
      " 0.32069394 0.32316512 0.32574189 0.32846284 0.33135775 0.33444735\n",
      " 0.33774155 0.34124029 0.34493592 0.3488141 ]\n",
      "22 day output [[0.3528571]]\n",
      "23 day input [0.32088996 0.31555021 0.32113049 0.306819   0.31699339 0.31954299\n",
      " 0.3212267  0.27143716 0.23581479 0.21917017 0.19742634 0.2609982\n",
      " 0.24072159 0.25931449 0.26982562 0.26891161 0.24998196 0.2565003\n",
      " 0.24731209 0.26313891 0.27482862 0.28389657 0.28608539 0.28815394\n",
      " 0.2907276  0.29383043 0.29580277 0.27663259 0.26109441 0.2601804\n",
      " 0.25474444 0.257727   0.2602285  0.28971738 0.2948647  0.29342153\n",
      " 0.29130487 0.29084787 0.28488274 0.28026458 0.26879134 0.26703548\n",
      " 0.25238725 0.26426939 0.2647745  0.26364402 0.26580878 0.26785328\n",
      " 0.27162959 0.2705472  0.26527962 0.27319302 0.26725195 0.27018641\n",
      " 0.26082983 0.26184005 0.2552255  0.25996392 0.25327721 0.25553818\n",
      " 0.26616957 0.26737222 0.26448587 0.26751654 0.26616957 0.266362\n",
      " 0.27619964 0.28257366 0.29368611 0.29635598 0.28769693 0.28784125\n",
      " 0.29055923 0.29361395 0.29060734 0.2844979  0.28567649 0.29337043\n",
      " 0.29377469 0.29552865 0.29789305 0.30049866 0.30317748 0.30584738\n",
      " 0.30846408 0.31100762 0.31347796 0.31589314 0.31828478 0.32069394\n",
      " 0.32316512 0.32574189 0.32846284 0.33135775 0.33444735 0.33774155\n",
      " 0.34124029 0.34493592 0.3488141  0.35285711]\n",
      "23 day output [[0.35704544]]\n",
      "24 day input [0.31555021 0.32113049 0.306819   0.31699339 0.31954299 0.3212267\n",
      " 0.27143716 0.23581479 0.21917017 0.19742634 0.2609982  0.24072159\n",
      " 0.25931449 0.26982562 0.26891161 0.24998196 0.2565003  0.24731209\n",
      " 0.26313891 0.27482862 0.28389657 0.28608539 0.28815394 0.2907276\n",
      " 0.29383043 0.29580277 0.27663259 0.26109441 0.2601804  0.25474444\n",
      " 0.257727   0.2602285  0.28971738 0.2948647  0.29342153 0.29130487\n",
      " 0.29084787 0.28488274 0.28026458 0.26879134 0.26703548 0.25238725\n",
      " 0.26426939 0.2647745  0.26364402 0.26580878 0.26785328 0.27162959\n",
      " 0.2705472  0.26527962 0.27319302 0.26725195 0.27018641 0.26082983\n",
      " 0.26184005 0.2552255  0.25996392 0.25327721 0.25553818 0.26616957\n",
      " 0.26737222 0.26448587 0.26751654 0.26616957 0.266362   0.27619964\n",
      " 0.28257366 0.29368611 0.29635598 0.28769693 0.28784125 0.29055923\n",
      " 0.29361395 0.29060734 0.2844979  0.28567649 0.29337043 0.29377469\n",
      " 0.29552865 0.29789305 0.30049866 0.30317748 0.30584738 0.30846408\n",
      " 0.31100762 0.31347796 0.31589314 0.31828478 0.32069394 0.32316512\n",
      " 0.32574189 0.32846284 0.33135775 0.33444735 0.33774155 0.34124029\n",
      " 0.34493592 0.3488141  0.35285711 0.35704544]\n",
      "24 day output [[0.36136058]]\n",
      "25 day input [0.32113049 0.306819   0.31699339 0.31954299 0.3212267  0.27143716\n",
      " 0.23581479 0.21917017 0.19742634 0.2609982  0.24072159 0.25931449\n",
      " 0.26982562 0.26891161 0.24998196 0.2565003  0.24731209 0.26313891\n",
      " 0.27482862 0.28389657 0.28608539 0.28815394 0.2907276  0.29383043\n",
      " 0.29580277 0.27663259 0.26109441 0.2601804  0.25474444 0.257727\n",
      " 0.2602285  0.28971738 0.2948647  0.29342153 0.29130487 0.29084787\n",
      " 0.28488274 0.28026458 0.26879134 0.26703548 0.25238725 0.26426939\n",
      " 0.2647745  0.26364402 0.26580878 0.26785328 0.27162959 0.2705472\n",
      " 0.26527962 0.27319302 0.26725195 0.27018641 0.26082983 0.26184005\n",
      " 0.2552255  0.25996392 0.25327721 0.25553818 0.26616957 0.26737222\n",
      " 0.26448587 0.26751654 0.26616957 0.266362   0.27619964 0.28257366\n",
      " 0.29368611 0.29635598 0.28769693 0.28784125 0.29055923 0.29361395\n",
      " 0.29060734 0.2844979  0.28567649 0.29337043 0.29377469 0.29552865\n",
      " 0.29789305 0.30049866 0.30317748 0.30584738 0.30846408 0.31100762\n",
      " 0.31347796 0.31589314 0.31828478 0.32069394 0.32316512 0.32574189\n",
      " 0.32846284 0.33135775 0.33444735 0.33774155 0.34124029 0.34493592\n",
      " 0.3488141  0.35285711 0.35704544 0.36136058]\n",
      "25 day output [[0.3657866]]\n",
      "26 day input [0.306819   0.31699339 0.31954299 0.3212267  0.27143716 0.23581479\n",
      " 0.21917017 0.19742634 0.2609982  0.24072159 0.25931449 0.26982562\n",
      " 0.26891161 0.24998196 0.2565003  0.24731209 0.26313891 0.27482862\n",
      " 0.28389657 0.28608539 0.28815394 0.2907276  0.29383043 0.29580277\n",
      " 0.27663259 0.26109441 0.2601804  0.25474444 0.257727   0.2602285\n",
      " 0.28971738 0.2948647  0.29342153 0.29130487 0.29084787 0.28488274\n",
      " 0.28026458 0.26879134 0.26703548 0.25238725 0.26426939 0.2647745\n",
      " 0.26364402 0.26580878 0.26785328 0.27162959 0.2705472  0.26527962\n",
      " 0.27319302 0.26725195 0.27018641 0.26082983 0.26184005 0.2552255\n",
      " 0.25996392 0.25327721 0.25553818 0.26616957 0.26737222 0.26448587\n",
      " 0.26751654 0.26616957 0.266362   0.27619964 0.28257366 0.29368611\n",
      " 0.29635598 0.28769693 0.28784125 0.29055923 0.29361395 0.29060734\n",
      " 0.2844979  0.28567649 0.29337043 0.29377469 0.29552865 0.29789305\n",
      " 0.30049866 0.30317748 0.30584738 0.30846408 0.31100762 0.31347796\n",
      " 0.31589314 0.31828478 0.32069394 0.32316512 0.32574189 0.32846284\n",
      " 0.33135775 0.33444735 0.33774155 0.34124029 0.34493592 0.3488141\n",
      " 0.35285711 0.35704544 0.36136058 0.36578661]\n",
      "26 day output [[0.37031174]]\n",
      "27 day input [0.31699339 0.31954299 0.3212267  0.27143716 0.23581479 0.21917017\n",
      " 0.19742634 0.2609982  0.24072159 0.25931449 0.26982562 0.26891161\n",
      " 0.24998196 0.2565003  0.24731209 0.26313891 0.27482862 0.28389657\n",
      " 0.28608539 0.28815394 0.2907276  0.29383043 0.29580277 0.27663259\n",
      " 0.26109441 0.2601804  0.25474444 0.257727   0.2602285  0.28971738\n",
      " 0.2948647  0.29342153 0.29130487 0.29084787 0.28488274 0.28026458\n",
      " 0.26879134 0.26703548 0.25238725 0.26426939 0.2647745  0.26364402\n",
      " 0.26580878 0.26785328 0.27162959 0.2705472  0.26527962 0.27319302\n",
      " 0.26725195 0.27018641 0.26082983 0.26184005 0.2552255  0.25996392\n",
      " 0.25327721 0.25553818 0.26616957 0.26737222 0.26448587 0.26751654\n",
      " 0.26616957 0.266362   0.27619964 0.28257366 0.29368611 0.29635598\n",
      " 0.28769693 0.28784125 0.29055923 0.29361395 0.29060734 0.2844979\n",
      " 0.28567649 0.29337043 0.29377469 0.29552865 0.29789305 0.30049866\n",
      " 0.30317748 0.30584738 0.30846408 0.31100762 0.31347796 0.31589314\n",
      " 0.31828478 0.32069394 0.32316512 0.32574189 0.32846284 0.33135775\n",
      " 0.33444735 0.33774155 0.34124029 0.34493592 0.3488141  0.35285711\n",
      " 0.35704544 0.36136058 0.36578661 0.37031174]\n",
      "27 day output [[0.3749292]]\n",
      "28 day input [0.31954299 0.3212267  0.27143716 0.23581479 0.21917017 0.19742634\n",
      " 0.2609982  0.24072159 0.25931449 0.26982562 0.26891161 0.24998196\n",
      " 0.2565003  0.24731209 0.26313891 0.27482862 0.28389657 0.28608539\n",
      " 0.28815394 0.2907276  0.29383043 0.29580277 0.27663259 0.26109441\n",
      " 0.2601804  0.25474444 0.257727   0.2602285  0.28971738 0.2948647\n",
      " 0.29342153 0.29130487 0.29084787 0.28488274 0.28026458 0.26879134\n",
      " 0.26703548 0.25238725 0.26426939 0.2647745  0.26364402 0.26580878\n",
      " 0.26785328 0.27162959 0.2705472  0.26527962 0.27319302 0.26725195\n",
      " 0.27018641 0.26082983 0.26184005 0.2552255  0.25996392 0.25327721\n",
      " 0.25553818 0.26616957 0.26737222 0.26448587 0.26751654 0.26616957\n",
      " 0.266362   0.27619964 0.28257366 0.29368611 0.29635598 0.28769693\n",
      " 0.28784125 0.29055923 0.29361395 0.29060734 0.2844979  0.28567649\n",
      " 0.29337043 0.29377469 0.29552865 0.29789305 0.30049866 0.30317748\n",
      " 0.30584738 0.30846408 0.31100762 0.31347796 0.31589314 0.31828478\n",
      " 0.32069394 0.32316512 0.32574189 0.32846284 0.33135775 0.33444735\n",
      " 0.33774155 0.34124029 0.34493592 0.3488141  0.35285711 0.35704544\n",
      " 0.36136058 0.36578661 0.37031174 0.37492919]\n",
      "28 day output [[0.3796384]]\n",
      "29 day input [0.3212267  0.27143716 0.23581479 0.21917017 0.19742634 0.2609982\n",
      " 0.24072159 0.25931449 0.26982562 0.26891161 0.24998196 0.2565003\n",
      " 0.24731209 0.26313891 0.27482862 0.28389657 0.28608539 0.28815394\n",
      " 0.2907276  0.29383043 0.29580277 0.27663259 0.26109441 0.2601804\n",
      " 0.25474444 0.257727   0.2602285  0.28971738 0.2948647  0.29342153\n",
      " 0.29130487 0.29084787 0.28488274 0.28026458 0.26879134 0.26703548\n",
      " 0.25238725 0.26426939 0.2647745  0.26364402 0.26580878 0.26785328\n",
      " 0.27162959 0.2705472  0.26527962 0.27319302 0.26725195 0.27018641\n",
      " 0.26082983 0.26184005 0.2552255  0.25996392 0.25327721 0.25553818\n",
      " 0.26616957 0.26737222 0.26448587 0.26751654 0.26616957 0.266362\n",
      " 0.27619964 0.28257366 0.29368611 0.29635598 0.28769693 0.28784125\n",
      " 0.29055923 0.29361395 0.29060734 0.2844979  0.28567649 0.29337043\n",
      " 0.29377469 0.29552865 0.29789305 0.30049866 0.30317748 0.30584738\n",
      " 0.30846408 0.31100762 0.31347796 0.31589314 0.31828478 0.32069394\n",
      " 0.32316512 0.32574189 0.32846284 0.33135775 0.33444735 0.33774155\n",
      " 0.34124029 0.34493592 0.3488141  0.35285711 0.35704544 0.36136058\n",
      " 0.36578661 0.37031174 0.37492919 0.3796384 ]\n",
      "29 day output [[0.38444355]]\n",
      "[[0.29337042570114136], [0.29377469420433044], [0.2955286502838135], [0.29789304733276367], [0.3004986643791199], [0.30317747592926025], [0.3058473765850067], [0.30846408009529114], [0.31100761890411377], [0.3134779632091522], [0.31589314341545105], [0.3182847797870636], [0.3206939399242401], [0.3231651186943054], [0.32574188709259033], [0.3284628391265869], [0.3313577473163605], [0.33444735407829285], [0.33774155378341675], [0.3412402868270874], [0.34493592381477356], [0.34881410002708435], [0.3528571128845215], [0.357045441865921], [0.3613605797290802], [0.365786612033844], [0.3703117370605469], [0.37492918968200684], [0.3796384036540985], [0.3844435513019562]]\n"
     ]
    }
   ],
   "source": [
    "lst_output = []\n",
    "n_steps = 100\n",
    "i=0\n",
    "while(i<30):\n",
    "    if (len(temp_inp)>100):\n",
    "        x_input = np.array(temp_inp[1:])\n",
    "        print(\"{} day input {}\".format(i,x_input))\n",
    "        x_input = x_input.reshape(1,-1)\n",
    "        x_input = x_input.reshape((1,n_steps,1))\n",
    "        yhat = model.predict(x_input, verbose=0)\n",
    "        print(\"{} day output {}\".format(i, yhat))\n",
    "        temp_inp.extend(yhat[0].tolist())\n",
    "        temp_inp = temp_inp[1:]\n",
    "        lst_output.extend(yhat.tolist())\n",
    "        i=i+1\n",
    "    else:\n",
    "        x_input = x_input.reshape((1,n_steps,1))\n",
    "        yhat = model.predict(x_input, verbose=0)\n",
    "        print(yhat[0])\n",
    "        temp_inp.extend(yhat[0].tolist())\n",
    "        print(len(temp_inp))\n",
    "        lst_output.extend(yhat.tolist())\n",
    "        i=i+1\n",
    "print(lst_output)"
   ]
  },
  {
   "cell_type": "code",
   "execution_count": 39,
   "id": "b5f85c78",
   "metadata": {},
   "outputs": [],
   "source": [
    "day_new = np.arange(1,101)\n",
    "day_pred = np.arange(101, 131)  "
   ]
  },
  {
   "cell_type": "code",
   "execution_count": 40,
   "id": "db15c95e",
   "metadata": {},
   "outputs": [
    {
     "data": {
      "text/plain": [
       "2648"
      ]
     },
     "execution_count": 40,
     "metadata": {},
     "output_type": "execute_result"
    }
   ],
   "source": [
    "len(df1)"
   ]
  },
  {
   "cell_type": "code",
   "execution_count": 41,
   "id": "e1d953e6",
   "metadata": {},
   "outputs": [
    {
     "data": {
      "text/plain": [
       "2548"
      ]
     },
     "execution_count": 41,
     "metadata": {},
     "output_type": "execute_result"
    }
   ],
   "source": [
    "len(df1)-100"
   ]
  },
  {
   "cell_type": "code",
   "execution_count": 42,
   "id": "a59ff73a",
   "metadata": {},
   "outputs": [
    {
     "data": {
      "text/plain": [
       "[<matplotlib.lines.Line2D at 0x28008be3f80>]"
      ]
     },
     "execution_count": 42,
     "metadata": {},
     "output_type": "execute_result"
    },
    {
     "data": {
      "image/png": "[encoded data removed]",
      "text/plain": [
       "<Figure size 640x480 with 1 Axes>"
      ]
     },
     "metadata": {},
     "output_type": "display_data"
    }
   ],
   "source": [
    "plt.plot(day_new, scaler.inverse_transform(df1[len(df1)-100:]))\n",
    "plt.plot(day_pred, scaler.inverse_transform(lst_output))"
   ]
  },
  {
   "cell_type": "code",
   "execution_count": 43,
   "id": "4f4ba4d4",
   "metadata": {},
   "outputs": [
    {
     "data": {
      "text/plain": [
       "[<matplotlib.lines.Line2D at 0x28009c728d0>]"
      ]
     },
     "execution_count": 43,
     "metadata": {},
     "output_type": "execute_result"
    },
    {
     "data": {
      "image/png": "[encoded data removed]",
      "text/plain": [
       "<Figure size 640x480 with 1 Axes>"
      ]
     },
     "metadata": {},
     "output_type": "display_data"
    }
   ],
   "source": [
    "df3 = df1.tolist()\n",
    "df3.extend(lst_output)\n",
    "plt.plot(df3[1300:])"
   ]
  },
  {
   "cell_type": "code",
   "execution_count": 44,
   "id": "7e0ebdcf",
   "metadata": {},
   "outputs": [
    {
     "name": "stdout",
     "output_type": "stream",
     "text": [
      "[[212.30875449]\n",
      " [212.47682912]\n",
      " [213.20603636]\n",
      " [214.18903443]\n",
      " [215.27231972]\n",
      " [216.38603562]\n",
      " [217.49604682]\n",
      " [218.5839413 ]\n",
      " [219.64141756]\n",
      " [220.6684632 ]\n",
      " [221.67257437]\n",
      " [222.6668972 ]\n",
      " [223.66850552]\n",
      " [224.6958981 ]\n",
      " [225.76718956]\n",
      " [226.89842537]\n",
      " [228.10198345]\n",
      " [229.38648746]\n",
      " [230.75605099]\n",
      " [232.21064925]\n",
      " [233.74711033]\n",
      " [235.35946209]\n",
      " [237.04034468]\n",
      " [238.78164246]\n",
      " [240.57566102]\n",
      " [242.41578395]\n",
      " [244.29710468]\n",
      " [246.21681061]\n",
      " [248.17466632]\n",
      " [250.17240645]]\n"
     ]
    }
   ],
   "source": [
    "print(scaler.inverse_transform(lst_output))"
   ]
  },
  {
   "cell_type": "code",
   "execution_count": 45,
   "id": "70d15bf3",
   "metadata": {},
   "outputs": [],
   "source": [
    "pred_30_2 = pd.DataFrame(scaler.inverse_transform(lst_output))"
   ]
  },
  {
   "cell_type": "code",
   "execution_count": 46,
   "id": "5013ff96",
   "metadata": {},
   "outputs": [],
   "source": [
    "pred_30_2.to_csv('pred_30_2.csv')"
   ]
  },
  {
   "cell_type": "code",
   "execution_count": null,
   "id": "e81786fb",
   "metadata": {},
   "outputs": [],
   "source": []
  }
 ],
 "metadata": {
  "kernelspec": {
   "display_name": "Python 3",
   "language": "python",
   "name": "python3"
  },
  "language_info": {
   "codemirror_mode": {
    "name": "ipython",
    "version": 3
   },
   "file_extension": ".py",
   "mimetype": "text/x-python",
   "name": "python",
   "nbconvert_exporter": "python",
   "pygments_lexer": "ipython3",
   "version": "3.12.7"
  }
 },
 "nbformat": 4,
 "nbformat_minor": 5
}
